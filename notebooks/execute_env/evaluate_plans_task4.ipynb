{
 "cells": [
  {
   "cell_type": "code",
   "execution_count": 1,
   "outputs": [],
   "source": [
    "from scienceworld import ScienceWorldEnv\n",
    "from sources.agent import BDIAgent\n",
    "from sources.scienceworld import parse_observation\n",
    "\n",
    "from sources.bdi_components.belief import State\n",
    "from sources.bdi_components.inference import NLIModel\n",
    "from sources.bdi_components.plans import PlanLibrary"
   ],
   "metadata": {
    "collapsed": false,
    "ExecuteTime": {
     "start_time": "2023-08-25T14:25:39.390324Z",
     "end_time": "2023-08-25T14:25:40.360262Z"
    }
   }
  },
  {
   "cell_type": "code",
   "execution_count": 2,
   "outputs": [
    {
     "name": "stderr",
     "output_type": "stream",
     "text": [
      "Some weights of the model checkpoint at ynie/roberta-large-snli_mnli_fever_anli_R1_R2_R3-nli were not used when initializing RobertaForSequenceClassification: ['roberta.pooler.dense.weight', 'roberta.pooler.dense.bias']\n",
      "- This IS expected if you are initializing RobertaForSequenceClassification from the checkpoint of a model trained on another task or with another architecture (e.g. initializing a BertForSequenceClassification model from a BertForPreTraining model).\n",
      "- This IS NOT expected if you are initializing RobertaForSequenceClassification from the checkpoint of a model that you expect to be exactly identical (initializing a BertForSequenceClassification model from a BertForSequenceClassification model).\n"
     ]
    }
   ],
   "source": [
    "#hg_model_hub_name = \"alisawuffles/roberta-large-wanli\"\n",
    "hg_model_hub_name = \"ynie/roberta-large-snli_mnli_fever_anli_R1_R2_R3-nli\"\n",
    "nli_model = NLIModel(hg_model_hub_name)"
   ],
   "metadata": {
    "collapsed": false,
    "ExecuteTime": {
     "start_time": "2023-08-25T14:25:40.357236Z",
     "end_time": "2023-08-25T14:25:43.653069Z"
    }
   }
  },
  {
   "cell_type": "code",
   "execution_count": 9,
   "metadata": {
    "collapsed": true,
    "ExecuteTime": {
     "start_time": "2023-08-25T14:29:38.527118Z",
     "end_time": "2023-08-25T14:29:38.531878Z"
    }
   },
   "outputs": [
    {
     "name": "stdout",
     "output_type": "stream",
     "text": [
      "dict_keys(['grow a orange plant from seed', 'collect soil', 'water plants', 'plant the orange seed', 'move to art studio', 'move to bedroom', 'move to greenhouse', 'move to kitchen', 'move to living room', 'move to workshop', 'move to outside', 'move to foundry', 'move to bathroom', 'move to hallway'])\n"
     ]
    }
   ],
   "source": [
    "# MAIN GOAL\n",
    "\n",
    "plan_a = \"\"\"\n",
    "    IF your goal is to grow a orange plant from seed THEN\n",
    "        move to living room,\n",
    "        pick up seed jar,\n",
    "        move to outside,\n",
    "        collect soil,\n",
    "        move to greenhouse,\n",
    "        plant the orange seed,\n",
    "        focus on orange seed in flower pot 1,\n",
    "        water plants,\n",
    "        focus on orange seed in flower pot 1\n",
    "\"\"\"\n",
    "\n",
    "plan_b = \"\"\"\n",
    "    IF your goal is to collect soil CONSIDERING you are seeing a shovel AND you are in outside THEN\n",
    "        pick up shovel,\n",
    "        use shovel in inventory on ground,\n",
    "        pick up soil\n",
    "\"\"\"\n",
    "\n",
    "plan_c = \"\"\"\n",
    "IF your goal is to water plants CONSIDERING you are seeing a flower pot AND you see a sink THEN\n",
    "    activate sink,\n",
    "    move jug to sink,\n",
    "    pour jug into flower pot 1,\n",
    "    deactivate sink,\n",
    "    wait1,\n",
    "    wait1,\n",
    "    wait1,\n",
    "    wait1,\n",
    "    wait1,\n",
    "    activate sink,\n",
    "    move jug to sink,\n",
    "    pour jug into flower pot 1,\n",
    "    deactivate sink,\n",
    "    wait1,\n",
    "    wait1,\n",
    "    wait1,\n",
    "    wait1,\n",
    "    wait1,\n",
    "    activate sink,\n",
    "    move jug to sink,\n",
    "    pour jug into flower pot 1,\n",
    "    deactivate sink,\n",
    "    wait1,\n",
    "    wait1,\n",
    "    wait1,\n",
    "    wait1,\n",
    "    wait1\n",
    "\"\"\"\n",
    "\n",
    "plan_d = \"\"\"\n",
    "    IF your goal is to plant the orange seed CONSIDERING you are seeing a flower pot AND you have a orange seed in your inventory AND you have soil in your inventory THEN\n",
    "        move soil in inventory to flower pot 1,\n",
    "        move orange seed in seed jar to flower pot 1,\n",
    "        0\n",
    "\"\"\"\n",
    "\n",
    "all_plans = [plan_a, plan_b, plan_c, plan_d]\n",
    "\n",
    "pl = PlanLibrary()\n",
    "pl.load_plans_from_strings(all_plans)  # load plans from strings above\n",
    "pl.load_plans_from_file(\"plans.txt\")  # load plans from file\n",
    "print(pl.plans.keys())"
   ]
  },
  {
   "cell_type": "code",
   "execution_count": 10,
   "outputs": [
    {
     "name": "stdout",
     "output_type": "stream",
     "text": [
      "huggingface/tokenizers: The current process just got forked, after parallelism has already been used. Disabling parallelism to avoid deadlocks...\n",
      "To disable this warning, you can either:\n",
      "\t- Avoid using `tokenizers` before the fork if possible\n",
      "\t- Explicitly set the environment variable TOKENIZERS_PARALLELISM=(true | false)\n",
      "Task Name: boil variation 98\n",
      "Task Description: Your task is to grow a orange plant from seed. Seeds can be found in the living room. First, focus on a seed. Then, make changes to the environment that grow the plant until it reaches the reproduction life stage.\n"
     ]
    },
    {
     "data": {
      "text/plain": "'grow a orange plant from seed'"
     },
     "execution_count": 10,
     "metadata": {},
     "output_type": "execute_result"
    }
   ],
   "source": [
    "env = ScienceWorldEnv(\"\", \"\", envStepLimit=100)\n",
    "\n",
    "#root_event = 'use chemistry to create green paint'\n",
    "\n",
    "task = 'grow-plant'\n",
    "env.load(task, 0)\n",
    "#randVariationIdx = env.getRandomVariationTest()\n",
    "randVariationIdx = 98\n",
    "env.load(task, randVariationIdx)\n",
    "\n",
    "goal = env.getTaskDescription().split('.')[0].replace(\"Your task is to\", \"\").strip()\n",
    "\n",
    "print(f\"Task Name: \" + 'boil' + \" variation \" + str(randVariationIdx))\n",
    "print(\"Task Description: \" + str(env.getTaskDescription()))\n",
    "\n",
    "# Reset the environment\n",
    "observation, info = env.reset()\n",
    "# initial state\n",
    "observation, reward, isCompleted, info = env.step('look around')\n",
    "current_state = parse_observation(observation=observation, inventory=info['inv'], look_around=info['look'],\n",
    "                                  task=goal, valid_actions=info['valid'])\n",
    "\n",
    "goal"
   ],
   "metadata": {
    "collapsed": false,
    "ExecuteTime": {
     "start_time": "2023-08-25T14:29:39.054213Z",
     "end_time": "2023-08-25T14:29:40.360389Z"
    }
   }
  },
  {
   "cell_type": "code",
   "execution_count": 11,
   "outputs": [
    {
     "name": "stdout",
     "output_type": "stream",
     "text": [
      "event -> grow a orange plant from seed -> state False\n",
      "event -> move to living room -> state False\n",
      "Action: open door -> Obs The door is now open.\n",
      "Action: go to hallway -> Obs You move to the hallway.\n",
      "Action: open door to living room -> Obs The door is now open.\n",
      "Action: go to living room -> Obs You move to the living room.\n",
      "Action: pick up seed jar -> Obs You move the seed jar to the inventory.\n",
      "event -> move to outside -> state False\n",
      "Action: open door -> Obs The door is already open.\n",
      "Action: go to hallway -> Obs You move to the hallway.\n",
      "Action: open door to greenhouse -> Obs The door is now open.\n",
      "Action: go to greenhouse -> Obs You move to the greenhouse.\n",
      "Action: open door to outside -> Obs The door is now open.\n",
      "Action: go to outside -> Obs You move to the outside.\n",
      "event -> collect soil -> state False\n",
      "Action: pick up shovel -> Obs You move the shovel to the inventory.\n",
      "Action: use shovel in inventory on ground -> Obs You dig a hole in the ground, and place the soil nearby.\n",
      "Action: pick up soil -> Obs You move the soil to the inventory.\n",
      "event -> move to greenhouse -> state False\n",
      "Action: open door to greenhouse -> Obs The door is already open.\n",
      "Action: go to greenhouse -> Obs You move to the greenhouse.\n",
      "event -> plant the orange seed -> state False\n",
      "Action: move soil in inventory to flower pot 1 -> Obs You move the soil to the flower pot 1.\n",
      "Action: move orange seed in seed jar to flower pot 1 -> Obs Ambiguous request: Please enter the number for the action you intended (or blank to cancel):\n",
      "0:\tmove orange seed (in seed jar, in inventory, in agent, in greenhouse) to flower pot 1 (in greenhouse)\n",
      "1:\tmove orange seed (in seed jar, in inventory, in agent, in greenhouse) to flower pot 1 (in greenhouse)\n",
      "2:\tmove orange seed (in seed jar, in inventory, in agent, in greenhouse) to flower pot 1 (in greenhouse)\n",
      "3:\tmove orange seed (in seed jar, in inventory, in agent, in greenhouse) to flower pot 1 (in greenhouse)\n",
      "4:\tmove orange seed (in seed jar, in inventory, in agent, in greenhouse) to flower pot 1 (in greenhouse)\n",
      "\n",
      "Action: 0 -> Obs You move the orange seed to the flower pot 1.\n",
      "Action: focus on orange seed in flower pot 1 -> Obs You focus on the orange seed.\n",
      "event -> water plants -> state False\n",
      "Action: activate sink -> Obs The sink is now activated.\n",
      "Action: move jug to sink -> Obs You move the jug to the sink.\n",
      "Action: pour jug into flower pot 1 -> Obs You pour the contents of the jug into the flower pot 1.\n",
      "Action: deactivate sink -> Obs The sink is now deactivated.\n",
      "Action: wait1 -> Obs You decide to wait for 1 iterations.\n",
      "Action: wait1 -> Obs You decide to wait for 1 iterations.\n",
      "Action: wait1 -> Obs You decide to wait for 1 iterations.\n",
      "Action: wait1 -> Obs You decide to wait for 1 iterations.\n",
      "Action: wait1 -> Obs You decide to wait for 1 iterations.\n",
      "Action: activate sink -> Obs The sink is now activated.\n",
      "Action: move jug to sink -> Obs You move the jug to the sink.\n",
      "Action: pour jug into flower pot 1 -> Obs You pour the contents of the jug into the flower pot 1.\n",
      "Action: deactivate sink -> Obs The sink is now deactivated.\n",
      "Action: wait1 -> Obs You decide to wait for 1 iterations.\n",
      "Action: wait1 -> Obs You decide to wait for 1 iterations.\n",
      "Action: wait1 -> Obs You decide to wait for 1 iterations.\n",
      "Action: wait1 -> Obs You decide to wait for 1 iterations.\n",
      "Action: wait1 -> Obs You decide to wait for 1 iterations.\n",
      "Action: activate sink -> Obs The sink is now activated.\n",
      "Action: move jug to sink -> Obs You move the jug to the sink.\n",
      "Action: pour jug into flower pot 1 -> Obs You pour the contents of the jug into the flower pot 1.\n",
      "Action: deactivate sink -> Obs The sink is now deactivated.\n",
      "Action: wait1 -> Obs You decide to wait for 1 iterations.\n",
      "Action: wait1 -> Obs You decide to wait for 1 iterations.\n",
      "Action: wait1 -> Obs You decide to wait for 1 iterations.\n",
      "Action: wait1 -> Obs You decide to wait for 1 iterations.\n",
      "Action: wait1 -> Obs You decide to wait for 1 iterations.\n",
      "Action: focus on orange seed in flower pot 1 -> Obs No known action matches that input.\n",
      "Completed keys: move1, move2, haveSeedJar\n",
      "----------------------------------------------------------------------------------------------------\n",
      "Sequential Subgoals:\n",
      "----------------------------------------------------------------------------------------------------\n",
      "0\ttrue\t                           GoalLifeStage\tfocus plant is in seed stage\n",
      "1\ttrue\t                           GoalLifeStage\tfocus plant is in seedling stage\n",
      "2\ttrue\t                           GoalLifeStage\tfocus plant is in adult stage\n",
      "3\ttrue\t                           GoalLifeStage\tfocus plant is in reproducing stage\n",
      "----------------------------------------------------------------------------------------------------\n",
      "Unordered and Optional Subgoals:\n",
      "----------------------------------------------------------------------------------------------------\n",
      "0\ttrue\t                    GoalInRoomWithObject\tbe in same location as seed jar\n",
      "1\ttrue\t     GoalSpecificObjectInDirectContainer\thave seed jar in inventory\n",
      "2\ttrue\t     GoalSpecificObjectInDirectContainer\thave shovel in inventory\n",
      "3\ttrue\t     GoalSpecificObjectInDirectContainer\thave soil in inventory\n",
      "4\ttrue\t                    GoalInRoomWithObject\tbe in same location as soil\n",
      "5\ttrue\t                   GoalMoveToNewLocation\tmove to a new location\n",
      "6\ttrue\t                      GoalMoveToLocation\tmove to the greenhouse\n",
      "7\ttrue\t                      GoalMoveToLocation\tmove to the greenhouse (after having seed jar)\n",
      "8\ttrue\t     GoalSpecificObjectInDirectContainer\thave soil in flower pot (1)\n",
      "9\tfalse\t     GoalSpecificObjectInDirectContainer\thave soil in flower pot (2)\n",
      "10\tfalse\t     GoalSpecificObjectInDirectContainer\thave soil in flower pot (3)\n",
      "11\ttrue\t     GoalSpecificObjectInDirectContainer\thave water in flower pot (1)\n",
      "12\tfalse\t     GoalSpecificObjectInDirectContainer\thave water in flower pot (2)\n",
      "13\tfalse\t     GoalSpecificObjectInDirectContainer\thave water in flower pot (3)\n",
      "14\ttrue\t     GoalSpecificObjectInDirectContainer\thave seed in flower pot (1)\n",
      "15\tfalse\t     GoalSpecificObjectInDirectContainer\thave seed in flower pot (2)\n",
      "16\tfalse\t     GoalSpecificObjectInDirectContainer\thave seed in flower pot (3)\n",
      "----------------------------------------------------------------------------------------------------\n",
      "\n",
      "100\n"
     ]
    }
   ],
   "source": [
    "def step_function(action: str) -> State:\n",
    "    observation, reward, isCompleted, info = env.step(action)\n",
    "    updated_state = parse_observation(observation=observation,\n",
    "                                      inventory=info['inv'],\n",
    "                                      look_around=info['look'],\n",
    "                                      task=goal,\n",
    "                                      valid_actions=info['valid'],\n",
    "                                      score=info['score'])\n",
    "    print(f\"Action: {action} -> Obs {observation}\")\n",
    "    return updated_state\n",
    "\n",
    "\n",
    "agent = BDIAgent(plan_library=pl, nli_model=nli_model)\n",
    "last_state = agent.act(current_state, step_function=step_function)\n",
    "\n",
    "print(env.getGoalProgressStr())\n",
    "print(last_state.reward)"
   ],
   "metadata": {
    "collapsed": false,
    "ExecuteTime": {
     "start_time": "2023-08-25T14:29:40.742397Z",
     "end_time": "2023-08-25T14:30:27.791613Z"
    }
   }
  }
 ],
 "metadata": {
  "kernelspec": {
   "display_name": "Python 3",
   "language": "python",
   "name": "python3"
  },
  "language_info": {
   "codemirror_mode": {
    "name": "ipython",
    "version": 2
   },
   "file_extension": ".py",
   "mimetype": "text/x-python",
   "name": "python",
   "nbconvert_exporter": "python",
   "pygments_lexer": "ipython2",
   "version": "2.7.6"
  }
 },
 "nbformat": 4,
 "nbformat_minor": 0
}
