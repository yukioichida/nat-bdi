{
 "cells": [
  {
   "cell_type": "code",
   "execution_count": 1,
   "outputs": [],
   "source": [
    "from scienceworld import ScienceWorldEnv\n",
    "from sources.agent import BDIAgent\n",
    "from sources.scienceworld import parse_observation\n",
    "\n",
    "from sources.bdi_components.belief import State\n",
    "from sources.bdi_components.inference import NLIModel\n",
    "from sources.bdi_components.plans import PlanLibrary"
   ],
   "metadata": {
    "collapsed": false,
    "ExecuteTime": {
     "start_time": "2023-09-22T06:56:21.617445Z",
     "end_time": "2023-09-22T06:56:22.435825Z"
    }
   }
  },
  {
   "cell_type": "code",
   "execution_count": 2,
   "outputs": [
    {
     "name": "stderr",
     "output_type": "stream",
     "text": [
      "Some weights of the model checkpoint at ynie/roberta-large-snli_mnli_fever_anli_R1_R2_R3-nli were not used when initializing RobertaForSequenceClassification: ['roberta.pooler.dense.bias', 'roberta.pooler.dense.weight']\n",
      "- This IS expected if you are initializing RobertaForSequenceClassification from the checkpoint of a model trained on another task or with another architecture (e.g. initializing a BertForSequenceClassification model from a BertForPreTraining model).\n",
      "- This IS NOT expected if you are initializing RobertaForSequenceClassification from the checkpoint of a model that you expect to be exactly identical (initializing a BertForSequenceClassification model from a BertForSequenceClassification model).\n"
     ]
    },
    {
     "name": "stdout",
     "output_type": "stream",
     "text": [
      "model size: 355,362,819\n"
     ]
    }
   ],
   "source": [
    "#hg_model_hub_name = \"alisawuffles/roberta-large-wanli\"\n",
    "hg_model_hub_name = \"ynie/roberta-large-snli_mnli_fever_anli_R1_R2_R3-nli\"\n",
    "nli_model = NLIModel(hg_model_hub_name, device='cuda')"
   ],
   "metadata": {
    "collapsed": false,
    "ExecuteTime": {
     "start_time": "2023-09-22T06:56:22.437337Z",
     "end_time": "2023-09-22T06:56:30.848431Z"
    }
   }
  },
  {
   "cell_type": "code",
   "execution_count": 3,
   "metadata": {
    "collapsed": true,
    "ExecuteTime": {
     "start_time": "2023-09-22T06:56:30.848431Z",
     "end_time": "2023-09-22T06:56:30.852441Z"
    }
   },
   "outputs": [
    {
     "name": "stdout",
     "output_type": "stream",
     "text": [
      "dict_keys(['freeze mercury', 'get metal pot', 'get mercury', 'refrigerate mercury', 'heat mercury on blast furnace', 'move to art studio', 'move to bedroom', 'move to greenhouse', 'move to kitchen', 'move to living room', 'move to workshop', 'move to outside', 'move to foundry', 'move to bathroom', 'move to hallway'])\n"
     ]
    }
   ],
   "source": [
    "# MAIN GOAL\n",
    "\n",
    "\n",
    "melt_plan = \"\"\"\n",
    "    IF your goal is to freeze mercury THEN\n",
    "        move to kitchen,\n",
    "        pick up thermometer,\n",
    "        get metal pot,\n",
    "        get mercury,\n",
    "        focus on substance in metal pot,\n",
    "        refrigerate mercury\n",
    "\"\"\"\n",
    "\n",
    "# get metal pot\n",
    "subplan_a = \"\"\"\n",
    "    IF your goal is to get metal pot CONSIDERING you are in the kitchen AND you see a cupboard THEN\n",
    "        open cupboard,\n",
    "        pick up metal pot\n",
    "\"\"\"\n",
    "\n",
    "\n",
    "subplan_b = \"\"\"\n",
    "    IF your goal is to get mercury CONSIDERING you are not in workshop AND you have metal pot in your inventory THEN\n",
    "        move to workshop,\n",
    "        pour cup into metal pot in inventory\n",
    "\"\"\"\n",
    "\n",
    "subplan_c = \"\"\"\n",
    "    IF your goal is to refrigerate mercury CONSIDERING you have a metal pot with mercury in your inventory THEN\n",
    "        move to workshop,\n",
    "        open freezer,\n",
    "        move metal pot to freezer,\n",
    "        wait,\n",
    "        wait,\n",
    "        use thermometer on metal pot,\n",
    "        focus on substance in metal pot,\n",
    "        pick up metal pot\n",
    "\"\"\"\n",
    "\n",
    "# heat water on stove\n",
    "subplan_d = \"\"\"\n",
    "    IF your goal is to heat mercury on blast furnace CONSIDERING you have metal pot with mercury in your inventory THEN\n",
    "        move to foundry,\n",
    "        open blast furnace,\n",
    "        move metal pot to blast furnace,\n",
    "        activate blast furnace,\n",
    "        use thermometer on metal pot,\n",
    "        focus on substance in metal pot,\n",
    "        wait,\n",
    "        use thermometer on metal pot\n",
    "\"\"\"\n",
    "\n",
    "all_plans = [melt_plan, subplan_a, subplan_b, subplan_c, subplan_d]\n",
    "\n",
    "pl = PlanLibrary()\n",
    "pl.load_plans_from_strings(all_plans)  # load plans from strings above\n",
    "pl.load_plans_from_file(\"plans_navigation.txt\")  # load plans from file\n",
    "print(pl.plans.keys())"
   ]
  },
  {
   "cell_type": "code",
   "execution_count": 5,
   "outputs": [
    {
     "name": "stdout",
     "output_type": "stream",
     "text": [
      "Task Name: boil variation 25\n",
      "Task Description: Your task is to freeze mercury. First, focus on the substance. Then, take actions that will cause it to change its state of matter.\n",
      "['This room is called the kitchen.', 'You see the agent', 'You see a substance called air', 'You see a chair. On the chair is: nothing.', 'You see a counter. On the counter is: a bowl (containing a red apple, a banana, an orange, a potato), a drawer.', 'You see a cupboard. The cupboard door is closed.', 'You see a freezer. The freezer door is closed.', 'You see a fridge. The fridge door is closed.', 'You see a glass jar (containing a substance called sodium chloride)', 'You see a lighter', 'You see a oven, which is turned off. The oven door is closed.', 'You see a painting', 'You see a sink, which is turned off. In the sink is: nothing.', 'You see a substance called soap', 'You see a stopwatch, which is deactivated.', 'You see a stove, which is turned off. On the stove is: nothing.', 'You see a table. On the table is: a glass cup (containing nothing).', 'You see a thermometer, currently reading a temperature of 10 degrees celsius', 'A door to the bathroom (that is closed)', 'A door to the hallway (that is open)', 'A door to the outside (that is closed)']\n"
     ]
    },
    {
     "data": {
      "text/plain": "'freeze mercury'"
     },
     "execution_count": 5,
     "metadata": {},
     "output_type": "execute_result"
    }
   ],
   "source": [
    "env = ScienceWorldEnv(\"\", \"\", envStepLimit=100)\n",
    "\n",
    "#root_event = 'use chemistry to create green paint'\n",
    "\n",
    "task = 'freeze'\n",
    "env.load(task, 0)\n",
    "#randVariationIdx = env.getRandomVariationTest()\n",
    "randVariationIdx = 25\n",
    "env.load(task, randVariationIdx)\n",
    "\n",
    "goal = env.getTaskDescription().split('.')[0].replace(\"Your task is to\", \"\").strip()\n",
    "\n",
    "print(f\"Task Name: \" + 'boil' + \" variation \" + str(randVariationIdx))\n",
    "print(\"Task Description: \" + str(env.getTaskDescription()))\n",
    "\n",
    "# Reset the environment\n",
    "observation, info = env.reset()\n",
    "# initial state\n",
    "observation, reward, isCompleted, info = env.step('open door to hallway')\n",
    "observation, reward, isCompleted, info = env.step('go to hallway')\n",
    "observation, reward, isCompleted, info = env.step('open door to kitchen')\n",
    "observation, reward, isCompleted, info = env.step('go to kitchen')\n",
    "observation, reward, isCompleted, info = env.step('look around')\n",
    "current_state = parse_observation(observation=observation, inventory=info['inv'], look_around=info['look'],\n",
    "                                  task=goal, valid_actions=info['valid'])\n",
    "print(current_state.look)\n",
    "goal"
   ],
   "metadata": {
    "collapsed": false,
    "ExecuteTime": {
     "start_time": "2023-09-22T06:57:14.512412Z",
     "end_time": "2023-09-22T06:57:16.335780Z"
    }
   }
  },
  {
   "cell_type": "code",
   "execution_count": 18,
   "outputs": [
    {
     "name": "stdout",
     "output_type": "stream",
     "text": [
      "Action: open door to hallway -> Obs: The door is now open. -> score 0\n",
      "Action: go to hallway -> Obs: You move to the hallway. -> score 0\n",
      "Action: open door to kitchen -> Obs: The door is now open. -> score 0\n",
      "Action: go to kitchen -> Obs: You move to the kitchen. -> score 0\n",
      "Action: pick up thermometer -> Obs: You move the thermometer to the inventory. -> score 0\n",
      "Action: open cupboard -> Obs: The cupboard is now open. -> score 0\n",
      "Action: pick up metal pot -> Obs: You move the metal pot to the inventory. -> score 0\n",
      "Action: open door to hallway -> Obs: The door is already open. -> score 0\n",
      "Action: go to hallway -> Obs: You move to the hallway. -> score 0\n",
      "Action: open door to workshop -> Obs: The door is now open. -> score 0\n",
      "Action: go to workshop -> Obs: You move to the workshop. -> score 10\n",
      "Action: pour cup into metal pot in inventory -> Obs: You pour the contents of the paper cup into the metal pot. -> score 10\n",
      "Action: focus on substance in metal pot -> Obs: You focus on the mercury. -> score 77\n",
      "Action: open freezer -> Obs: The ultra low temperature freezer is now open. -> score 77\n",
      "Action: move metal pot to freezer -> Obs: You move the metal pot to the ultra low temperature freezer. -> score 77\n",
      "Action: wait -> Obs: You decide to wait for 10 iterations. -> score 82\n",
      "Action: wait -> Obs: You decide to wait for 10 iterations. -> score 100\n",
      "Action: use thermometer on metal pot -> Obs: the thermometer measures a temperature of -56 degrees celsius -> score 100\n",
      "Action: focus on substance in metal pot -> Obs: You focus on the solid mercury. -> score 100\n",
      "Action: pick up metal pot -> Obs: You move the metal pot to the inventory. -> score 100\n",
      "Completed keys: \n",
      "----------------------------------------------------------------------------------------------------\n",
      "Sequential Subgoals:\n",
      "----------------------------------------------------------------------------------------------------\n",
      "0\ttrue\t                                GoalFind\tfocus on substance\n",
      "1\ttrue\t                 GoalChangeStateOfMatter\tsubstance is in a liquid state\n",
      "2\ttrue\t                 GoalChangeStateOfMatter\tsubstance is in a solid state\n",
      "----------------------------------------------------------------------------------------------------\n",
      "Unordered and Optional Subgoals:\n",
      "----------------------------------------------------------------------------------------------------\n",
      "0\ttrue\t                    GoalInRoomWithObject\tbe in same location as mercury\n",
      "1\ttrue\t            GoalObjectsInSingleContainer\thave substance alone in a single container\n",
      "2\tfalse\t                   GoalObjectInContainer\thave object in cooler (fridge)\n",
      "3\tfalse\t                   GoalObjectInContainer\thave object in cooler (freezer)\n",
      "4\ttrue\t                 GoalTemperatureDecrease\tcool object by at least 5C\n",
      "----------------------------------------------------------------------------------------------------\n",
      "\n",
      "100\n"
     ]
    }
   ],
   "source": [
    "def step_function(action: str) -> State:\n",
    "    observation, reward, isCompleted, info = env.step(action)\n",
    "    updated_state = parse_observation(observation=observation,\n",
    "                                      inventory=info['inv'],\n",
    "                                      look_around=info['look'],\n",
    "                                      task=goal,\n",
    "                                      valid_actions=info['valid'],\n",
    "                                      score=info['score'])\n",
    "    print(f\"Action: {action} -> Obs: {observation} -> score {info['score']}\")\n",
    "    return updated_state\n",
    "\n",
    "\n",
    "agent = BDIAgent(plan_library=pl, nli_model=nli_model)\n",
    "last_state = agent.act(current_state, step_function=step_function)\n",
    "\n",
    "print(env.getGoalProgressStr())\n",
    "print(last_state.reward)"
   ],
   "metadata": {
    "collapsed": false,
    "ExecuteTime": {
     "start_time": "2023-09-03T15:04:44.271955Z",
     "end_time": "2023-09-03T15:04:49.580152Z"
    }
   }
  },
  {
   "cell_type": "code",
   "execution_count": 6,
   "outputs": [
    {
     "data": {
      "text/plain": "['This room is called the foundry.',\n 'You see the agent',\n 'You see a substance called air',\n 'You see a blast furnace, which is turned off. The blast furnace door is closed.',\n 'You see a sink, which is turned off. In the sink is: nothing.',\n 'You see a table. On the table is: nothing.',\n 'A door to the outside (that is open)']"
     },
     "execution_count": 6,
     "metadata": {},
     "output_type": "execute_result"
    }
   ],
   "source": [
    "last_state.look"
   ],
   "metadata": {
    "collapsed": false,
    "ExecuteTime": {
     "start_time": "2023-08-31T17:26:19.146657Z",
     "end_time": "2023-08-31T17:26:19.196766Z"
    }
   }
  },
  {
   "cell_type": "code",
   "execution_count": null,
   "outputs": [],
   "source": [],
   "metadata": {
    "collapsed": false
   }
  }
 ],
 "metadata": {
  "kernelspec": {
   "display_name": "Python 3",
   "language": "python",
   "name": "python3"
  },
  "language_info": {
   "codemirror_mode": {
    "name": "ipython",
    "version": 2
   },
   "file_extension": ".py",
   "mimetype": "text/x-python",
   "name": "python",
   "nbconvert_exporter": "python",
   "pygments_lexer": "ipython2",
   "version": "2.7.6"
  }
 },
 "nbformat": 4,
 "nbformat_minor": 0
}
