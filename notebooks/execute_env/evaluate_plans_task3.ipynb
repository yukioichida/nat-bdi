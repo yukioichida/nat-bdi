{
 "cells": [
  {
   "cell_type": "code",
   "execution_count": 1,
   "source": [
    "from scienceworld import ScienceWorldEnv\n",
    "from sources.agent import BDIAgent\n",
    "from sources.scienceworld import parse_observation, load_step_function\n",
    "\n",
    "from sources.bdi_components.belief import State\n",
    "from sources.bdi_components.inference import NLIModel\n",
    "from sources.bdi_components.plans import PlanLibrary"
   ],
   "metadata": {
    "collapsed": false,
    "ExecuteTime": {
     "start_time": "2023-09-12T11:34:25.712408Z",
     "end_time": "2023-09-12T11:34:26.696430Z"
    }
   },
   "outputs": []
  },
  {
   "cell_type": "code",
   "execution_count": 2,
   "source": [
    "#hg_model_hub_name = \"alisawuffles/roberta-large-wanli\"\n",
    "hg_model_hub_name = \"ynie/roberta-large-snli_mnli_fever_anli_R1_R2_R3-nli\"\n",
    "nli_model = NLIModel(hg_model_hub_name, device='cuda')"
   ],
   "metadata": {
    "collapsed": false,
    "ExecuteTime": {
     "start_time": "2023-09-12T11:34:26.696430Z",
     "end_time": "2023-09-12T11:34:31.537830Z"
    }
   },
   "outputs": []
  },
  {
   "cell_type": "code",
   "execution_count": 3,
   "metadata": {
    "collapsed": true,
    "ExecuteTime": {
     "start_time": "2023-09-12T11:34:31.537830Z",
     "end_time": "2023-09-12T11:34:31.543296Z"
    }
   },
   "source": [
    "# MAIN GOAL\n",
    "plan = \"\"\"\n",
    "IF your goal is to find a(n) non-living thing by moving it to the yellow box in the workshop THEN\n",
    "move to kitchen,\n",
    "pick up thermometer,\n",
    "focus on thermometer,\n",
    "move to workshop,\n",
    "move thermometer to yellow box\n",
    "\"\"\"\n",
    "\n",
    "all_plans = [plan]\n",
    "\n",
    "pl = PlanLibrary()\n",
    "pl.load_plans_from_strings(all_plans)  # load plans from strings above\n",
    "pl.load_plans_from_file(\"plans_navigation.txt\")  # load plans from file\n",
    "print(pl.plans.keys())"
   ],
   "outputs": []
  },
  {
   "cell_type": "code",
   "execution_count": 4,
   "source": [
    "env = ScienceWorldEnv(\"\", \"\", envStepLimit=100)\n",
    "\n",
    "\n",
    "task = 'find-non-living-thing'\n",
    "env.load(task, 0)\n",
    "randVariationIdx = env.getRandomVariationTest()\n",
    "env.load(task, 28)\n",
    "\n",
    "#goal = env.getTaskDescription().split('.')[0].replace(\"Your task is to\", \"\").strip()\n",
    "goal = env.getTaskDescription().replace(\". First, focus on the thing. Then,\", \"\").replace(\"move\", \"by moving\").replace(\"Your task is to\", \"\").replace(\".\",\"\").strip()\n",
    "\n",
    "print(f\"Task Name: \" + 'boil' + \" variation \" + str(randVariationIdx))\n",
    "print(\"Task Description: \" + str(env.getTaskDescription()))\n",
    "\n",
    "# Reset the environment\n",
    "observation, info = env.reset()\n",
    "# initial state\n",
    "observation, reward, isCompleted, info = env.step('look around')\n",
    "current_state = parse_observation(observation=observation, inventory=info['inv'], look_around=info['look'],\n",
    "                                  task=goal, valid_actions=info['valid'])\n",
    "\n",
    "goal"
   ],
   "metadata": {
    "collapsed": false,
    "ExecuteTime": {
     "start_time": "2023-09-12T11:34:31.543296Z",
     "end_time": "2023-09-12T11:34:32.833382Z"
    }
   },
   "outputs": []
  },
  {
   "cell_type": "code",
   "execution_count": 5,
   "source": [
    "step_function = load_step_function(env, goal)\n",
    "\n",
    "\n",
    "agent = BDIAgent(plan_library=pl, nli_model=nli_model)\n",
    "last_state = agent.act(current_state, step_function=step_function)\n",
    "\n",
    "print(env.getGoalProgressStr())\n",
    "print(last_state.score)"
   ],
   "metadata": {
    "collapsed": false,
    "ExecuteTime": {
     "start_time": "2023-09-12T11:34:32.830376Z",
     "end_time": "2023-09-12T11:34:37.849557Z"
    }
   },
   "outputs": []
  },
  {
   "cell_type": "code",
   "execution_count": null,
   "source": [],
   "metadata": {
    "collapsed": false
   },
   "outputs": []
  }
 ],
 "metadata": {
  "kernelspec": {
   "display_name": "Python 3",
   "language": "python",
   "name": "python3"
  },
  "language_info": {
   "codemirror_mode": {
    "name": "ipython",
    "version": 2
   },
   "file_extension": ".py",
   "mimetype": "text/x-python",
   "name": "python",
   "nbconvert_exporter": "python",
   "pygments_lexer": "ipython2",
   "version": "2.7.6"
  }
 },
 "nbformat": 4,
 "nbformat_minor": 0
}
