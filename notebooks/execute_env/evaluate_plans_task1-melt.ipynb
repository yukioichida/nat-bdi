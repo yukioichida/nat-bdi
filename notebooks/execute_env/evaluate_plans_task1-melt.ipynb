{
 "cells": [
  {
   "cell_type": "code",
   "execution_count": 1,
   "source": [
    "from scienceworld import ScienceWorldEnv\n",
    "from sources.agent import BDIAgent\n",
    "from sources.scienceworld import parse_observation, load_step_function\n",
    "\n",
    "from sources.bdi_components.belief import State\n",
    "from sources.bdi_components.inference import NLIModel\n",
    "from sources.bdi_components.plans import PlanLibrary"
   ],
   "metadata": {
    "collapsed": false,
    "ExecuteTime": {
     "start_time": "2023-09-30T14:25:20.831232Z",
     "end_time": "2023-09-30T14:25:21.876735Z"
    }
   },
   "outputs": []
  },
  {
   "cell_type": "code",
   "execution_count": 2,
   "source": [
    "#hg_model_hub_name = \"alisawuffles/roberta-large-wanli\"\n",
    "hg_model_hub_name = \"ynie/roberta-large-snli_mnli_fever_anli_R1_R2_R3-nli\"\n",
    "nli_model = NLIModel(hg_model_hub_name, device='cuda')"
   ],
   "metadata": {
    "collapsed": false,
    "ExecuteTime": {
     "start_time": "2023-09-30T14:25:21.872706Z",
     "end_time": "2023-09-30T14:25:34.221875Z"
    }
   },
   "outputs": []
  },
  {
   "cell_type": "code",
   "execution_count": 24,
   "metadata": {
    "collapsed": true,
    "ExecuteTime": {
     "start_time": "2023-09-30T14:32:18.898256Z",
     "end_time": "2023-09-30T14:32:18.954510Z"
    }
   },
   "source": [
    "# MAIN GOAL\n",
    "\n",
    "\n",
    "melt_plan = \"\"\"\n",
    "    IF your goal is to melt mercury THEN\n",
    "        move to kitchen,\n",
    "        pick up thermometer,\n",
    "        get metal pot,\n",
    "        get mercury,\n",
    "        focus on substance in metal pot,\n",
    "        freeze mercury,\n",
    "        heat mercury on blast furnace,\n",
    "        focus on substance in metal pot\n",
    "\"\"\"\n",
    "\n",
    "# get metal pot\n",
    "subplan_a = \"\"\"\n",
    "    IF your goal is to get metal pot CONSIDERING you are in the kitchen AND you see a cupboard THEN\n",
    "        open cupboard,\n",
    "        pick up metal pot\n",
    "\"\"\"\n",
    "\n",
    "\n",
    "subplan_b = \"\"\"\n",
    "    IF your goal is to get mercury CONSIDERING you are not in workshop AND you have metal pot in your inventory THEN\n",
    "        move to workshop,\n",
    "        pour glass cup into metal pot in inventory\n",
    "\"\"\"\n",
    "\n",
    "subplan_c = \"\"\"\n",
    "    IF your goal is to freeze mercury CONSIDERING you have a metal pot with mercury in your inventory THEN\n",
    "        move to workshop,\n",
    "        open freezer,\n",
    "        move metal pot to freezer,\n",
    "        wait,\n",
    "        wait,\n",
    "        use thermometer on metal pot,\n",
    "        focus on substance in metal pot,\n",
    "        pick up metal pot\n",
    "\"\"\"\n",
    "\n",
    "# heat water on stove\n",
    "subplan_d = \"\"\"\n",
    "    IF your goal is to heat mercury on blast furnace CONSIDERING you have metal pot with mercury in your inventory THEN\n",
    "        move to foundry,\n",
    "        open blast furnace,\n",
    "        move metal pot to blast furnace,\n",
    "        activate blast furnace,\n",
    "        use thermometer on metal pot,\n",
    "        focus on substance in metal pot,\n",
    "        wait,\n",
    "        use thermometer on metal pot\n",
    "\"\"\"\n",
    "\n",
    "all_plans = [melt_plan, subplan_a, subplan_b, subplan_c, subplan_d]\n",
    "\n",
    "pl = PlanLibrary()\n",
    "#pl.load_plans_from_strings(all_plans)  # load plans from strings above\n",
    "#pl.load_plans_from_file(\"plans_navigation.txt\")  # load plans from file\n",
    "print(pl.plans.keys())"
   ],
   "outputs": []
  },
  {
   "cell_type": "code",
   "execution_count": 25,
   "source": [
    "lengths = [len(plan) for key, plan in pl.plans.items()]\n",
    "sum(lengths)"
   ],
   "metadata": {
    "collapsed": false,
    "ExecuteTime": {
     "start_time": "2023-09-30T14:32:20.071044Z",
     "end_time": "2023-09-30T14:32:20.076313Z"
    }
   },
   "outputs": []
  },
  {
   "cell_type": "code",
   "execution_count": null,
   "source": [],
   "metadata": {
    "collapsed": false
   },
   "outputs": []
  },
  {
   "cell_type": "code",
   "execution_count": 70,
   "source": [
    "env = ScienceWorldEnv(\"\", \"\", envStepLimit=100)\n",
    "\n",
    "#root_event = 'use chemistry to create green paint'\n",
    "\n",
    "task = 'melt'\n",
    "env.load(task, 0)\n",
    "#randVariationIdx = env.getRandomVariationTest()\n",
    "randVariationIdx = 24\n",
    "env.load(task, randVariationIdx)\n",
    "\n",
    "goal = env.getTaskDescription().split('.')[0].replace(\"Your task is to\", \"\").strip()\n",
    "\n",
    "print(f\"Task Name: \" + 'boil' + \" variation \" + str(randVariationIdx))\n",
    "print(\"Task Description: \" + str(env.getTaskDescription()))\n",
    "\n",
    "# Reset the environment\n",
    "observation, info = env.reset()\n",
    "# initial state\n",
    "observation, reward, isCompleted, info = env.step('look around')\n",
    "current_state = parse_observation(observation=observation, inventory=info['inv'], look_around=info['look'],\n",
    "                                  task=goal, valid_actions=info['valid'])\n",
    "print(current_state.look)\n",
    "goal"
   ],
   "metadata": {
    "collapsed": false,
    "ExecuteTime": {
     "start_time": "2023-09-03T11:20:23.022097Z",
     "end_time": "2023-09-03T11:20:24.323126Z"
    }
   },
   "outputs": []
  },
  {
   "cell_type": "code",
   "execution_count": 71,
   "source": [
    "step_function = load_step_function(env, goal=goal)\n",
    "agent = BDIAgent(plan_library=pl, nli_model=nli_model)\n",
    "last_state = agent.act(current_state, step_function=step_function)\n",
    "\n",
    "print(env.getGoalProgressStr())\n",
    "print(last_state.reward)"
   ],
   "metadata": {
    "collapsed": false,
    "ExecuteTime": {
     "start_time": "2023-09-03T11:20:24.634692Z",
     "end_time": "2023-09-03T11:20:29.188352Z"
    }
   },
   "outputs": []
  },
  {
   "cell_type": "code",
   "execution_count": 6,
   "source": [
    "last_state.look"
   ],
   "metadata": {
    "collapsed": false,
    "ExecuteTime": {
     "start_time": "2023-08-31T17:26:19.146657Z",
     "end_time": "2023-08-31T17:26:19.196766Z"
    }
   },
   "outputs": []
  },
  {
   "cell_type": "code",
   "execution_count": null,
   "source": [],
   "metadata": {
    "collapsed": false
   },
   "outputs": []
  }
 ],
 "metadata": {
  "kernelspec": {
   "display_name": "Python 3",
   "language": "python",
   "name": "python3"
  },
  "language_info": {
   "codemirror_mode": {
    "name": "ipython",
    "version": 2
   },
   "file_extension": ".py",
   "mimetype": "text/x-python",
   "name": "python",
   "nbconvert_exporter": "python",
   "pygments_lexer": "ipython2",
   "version": "2.7.6"
  }
 },
 "nbformat": 4,
 "nbformat_minor": 0
}
