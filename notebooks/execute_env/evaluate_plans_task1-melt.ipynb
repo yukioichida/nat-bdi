{
 "cells": [
  {
   "cell_type": "code",
   "execution_count": 1,
   "outputs": [],
   "source": [
    "from scienceworld import ScienceWorldEnv\n",
    "from sources.agent import BDIAgent\n",
    "from sources.scienceworld import parse_observation, load_step_function\n",
    "\n",
    "from sources.bdi_components.belief import State\n",
    "from sources.bdi_components.inference import NLIModel\n",
    "from sources.bdi_components.plans import PlanLibrary"
   ],
   "metadata": {
    "collapsed": false,
    "ExecuteTime": {
     "start_time": "2023-09-30T14:25:20.831232Z",
     "end_time": "2023-09-30T14:25:21.876735Z"
    }
   }
  },
  {
   "cell_type": "code",
   "execution_count": 2,
   "outputs": [
    {
     "name": "stderr",
     "output_type": "stream",
     "text": [
      "Some weights of the model checkpoint at ynie/roberta-large-snli_mnli_fever_anli_R1_R2_R3-nli were not used when initializing RobertaForSequenceClassification: ['roberta.pooler.dense.weight', 'roberta.pooler.dense.bias']\n",
      "- This IS expected if you are initializing RobertaForSequenceClassification from the checkpoint of a model trained on another task or with another architecture (e.g. initializing a BertForSequenceClassification model from a BertForPreTraining model).\n",
      "- This IS NOT expected if you are initializing RobertaForSequenceClassification from the checkpoint of a model that you expect to be exactly identical (initializing a BertForSequenceClassification model from a BertForSequenceClassification model).\n"
     ]
    },
    {
     "name": "stdout",
     "output_type": "stream",
     "text": [
      "model size: 355,362,819\n"
     ]
    }
   ],
   "source": [
    "#hg_model_hub_name = \"alisawuffles/roberta-large-wanli\"\n",
    "hg_model_hub_name = \"ynie/roberta-large-snli_mnli_fever_anli_R1_R2_R3-nli\"\n",
    "nli_model = NLIModel(hg_model_hub_name, device='cuda')"
   ],
   "metadata": {
    "collapsed": false,
    "ExecuteTime": {
     "start_time": "2023-09-30T14:25:21.872706Z",
     "end_time": "2023-09-30T14:25:34.221875Z"
    }
   }
  },
  {
   "cell_type": "code",
   "execution_count": 24,
   "metadata": {
    "collapsed": true,
    "ExecuteTime": {
     "start_time": "2023-09-30T14:32:18.898256Z",
     "end_time": "2023-09-30T14:32:18.954510Z"
    }
   },
   "outputs": [
    {
     "name": "stdout",
     "output_type": "stream",
     "text": [
      "dict_keys(['find a(n) non-living thing by moving it to the orange box in the living room', 'find a(n) non-living thing by moving it to the yellow box in the living room', 'find a(n) non-living thing by moving it to the purple box in the living room', 'find a(n) non-living thing by moving it to the red box in the bedroom', 'find a(n) non-living thing by moving it to the green box in the bedroom', 'find a(n) non-living thing by moving it to the blue box in the bedroom', 'find a(n) non-living thing by moving it to the orange box in the bedroom', 'find a(n) non-living thing by moving it to the yellow box in the bedroom', 'find a(n) non-living thing by moving it to the purple box in the bedroom', 'find a(n) non-living thing by moving it to the red box in the workshop', 'find a(n) non-living thing by moving it to the green box in the workshop', 'find a(n) non-living thing by moving it to the blue box in the workshop', 'find a(n) non-living thing by moving it to the orange box in the workshop', 'find a(n) non-living thing by moving it to the yellow box in the workshop', 'find a(n) non-living thing by moving it to the purple box in the workshop', 'find a(n) non-living thing by moving it to the red box in the kitchen', 'find a(n) non-living thing by moving it to the green box in the kitchen', 'find a(n) non-living thing by moving it to the blue box in the kitchen', 'find a(n) non-living thing by moving it to the orange box in the kitchen', 'find a(n) non-living thing by moving it to the yellow box in the kitchen', 'find a(n) non-living thing by moving it to the purple box in the kitchen', 'find a(n) non-living thing by moving it to the red box in the bathroom', 'find a(n) non-living thing by moving it to the green box in the bathroom'])\n"
     ]
    }
   ],
   "source": [
    "# MAIN GOAL\n",
    "\n",
    "\n",
    "melt_plan = \"\"\"\n",
    "    IF your goal is to melt mercury THEN\n",
    "        move to kitchen,\n",
    "        pick up thermometer,\n",
    "        get metal pot,\n",
    "        get mercury,\n",
    "        focus on substance in metal pot,\n",
    "        freeze mercury,\n",
    "        heat mercury on blast furnace,\n",
    "        focus on substance in metal pot\n",
    "\"\"\"\n",
    "\n",
    "# get metal pot\n",
    "subplan_a = \"\"\"\n",
    "    IF your goal is to get metal pot CONSIDERING you are in the kitchen AND you see a cupboard THEN\n",
    "        open cupboard,\n",
    "        pick up metal pot\n",
    "\"\"\"\n",
    "\n",
    "\n",
    "subplan_b = \"\"\"\n",
    "    IF your goal is to get mercury CONSIDERING you are not in workshop AND you have metal pot in your inventory THEN\n",
    "        move to workshop,\n",
    "        pour glass cup into metal pot in inventory\n",
    "\"\"\"\n",
    "\n",
    "subplan_c = \"\"\"\n",
    "    IF your goal is to freeze mercury CONSIDERING you have a metal pot with mercury in your inventory THEN\n",
    "        move to workshop,\n",
    "        open freezer,\n",
    "        move metal pot to freezer,\n",
    "        wait,\n",
    "        wait,\n",
    "        use thermometer on metal pot,\n",
    "        focus on substance in metal pot,\n",
    "        pick up metal pot\n",
    "\"\"\"\n",
    "\n",
    "# heat water on stove\n",
    "subplan_d = \"\"\"\n",
    "    IF your goal is to heat mercury on blast furnace CONSIDERING you have metal pot with mercury in your inventory THEN\n",
    "        move to foundry,\n",
    "        open blast furnace,\n",
    "        move metal pot to blast furnace,\n",
    "        activate blast furnace,\n",
    "        use thermometer on metal pot,\n",
    "        focus on substance in metal pot,\n",
    "        wait,\n",
    "        use thermometer on metal pot\n",
    "\"\"\"\n",
    "\n",
    "all_plans = [melt_plan, subplan_a, subplan_b, subplan_c, subplan_d]\n",
    "\n",
    "pl = PlanLibrary()\n",
    "#pl.load_plans_from_strings(all_plans)  # load plans from strings above\n",
    "#pl.load_plans_from_file(\"plans_navigation.txt\")  # load plans from file\n",
    "print(pl.plans.keys())"
   ]
  },
  {
   "cell_type": "code",
   "execution_count": 25,
   "outputs": [
    {
     "data": {
      "text/plain": "23"
     },
     "execution_count": 25,
     "metadata": {},
     "output_type": "execute_result"
    }
   ],
   "source": [
    "lengths = [len(plan) for key, plan in pl.plans.items()]\n",
    "sum(lengths)"
   ],
   "metadata": {
    "collapsed": false,
    "ExecuteTime": {
     "start_time": "2023-09-30T14:32:20.071044Z",
     "end_time": "2023-09-30T14:32:20.076313Z"
    }
   }
  },
  {
   "cell_type": "code",
   "execution_count": null,
   "outputs": [],
   "source": [],
   "metadata": {
    "collapsed": false
   }
  },
  {
   "cell_type": "code",
   "execution_count": 70,
   "outputs": [
    {
     "name": "stdout",
     "output_type": "stream",
     "text": [
      "huggingface/tokenizers: The current process just got forked, after parallelism has already been used. Disabling parallelism to avoid deadlocks...\n",
      "To disable this warning, you can either:\n",
      "\t- Avoid using `tokenizers` before the fork if possible\n",
      "\t- Explicitly set the environment variable TOKENIZERS_PARALLELISM=(true | false)\n",
      "Task Name: boil variation 24\n",
      "Task Description: Your task is to melt mercury. First, focus on the substance. Then, take actions that will cause it to change its state of matter.\n",
      "['This room is called the bathroom.', 'You see the agent', 'You see a substance called air', 'You see a bathtub, which is turned off. In the bathtub is: nothing.', 'You see a drawing', 'You see a glass cup (containing nothing)', 'You see a sink, which is turned off. In the sink is: nothing.', 'You see a toilet. In the toilet is: A drain, which is open, a substance called water.', 'A door to the kitchen (that is closed)']\n"
     ]
    },
    {
     "data": {
      "text/plain": "'melt mercury'"
     },
     "execution_count": 70,
     "metadata": {},
     "output_type": "execute_result"
    }
   ],
   "source": [
    "env = ScienceWorldEnv(\"\", \"\", envStepLimit=100)\n",
    "\n",
    "#root_event = 'use chemistry to create green paint'\n",
    "\n",
    "task = 'melt'\n",
    "env.load(task, 0)\n",
    "#randVariationIdx = env.getRandomVariationTest()\n",
    "randVariationIdx = 24\n",
    "env.load(task, randVariationIdx)\n",
    "\n",
    "goal = env.getTaskDescription().split('.')[0].replace(\"Your task is to\", \"\").strip()\n",
    "\n",
    "print(f\"Task Name: \" + 'boil' + \" variation \" + str(randVariationIdx))\n",
    "print(\"Task Description: \" + str(env.getTaskDescription()))\n",
    "\n",
    "# Reset the environment\n",
    "observation, info = env.reset()\n",
    "# initial state\n",
    "observation, reward, isCompleted, info = env.step('look around')\n",
    "current_state = parse_observation(observation=observation, inventory=info['inv'], look_around=info['look'],\n",
    "                                  task=goal, valid_actions=info['valid'])\n",
    "print(current_state.look)\n",
    "goal"
   ],
   "metadata": {
    "collapsed": false,
    "ExecuteTime": {
     "start_time": "2023-09-03T11:20:23.022097Z",
     "end_time": "2023-09-03T11:20:24.323126Z"
    }
   }
  },
  {
   "cell_type": "code",
   "execution_count": 71,
   "outputs": [
    {
     "name": "stdout",
     "output_type": "stream",
     "text": [
      "Action: open door -> Obs: The door is now open. -> score 0\n",
      "Action: go to kitchen -> Obs: You move to the kitchen. -> score 0\n",
      "Action: pick up thermometer -> Obs: You move the thermometer to the inventory. -> score 0\n",
      "Action: open cupboard -> Obs: The cupboard is now open. -> score 0\n",
      "Action: pick up metal pot -> Obs: You move the metal pot to the inventory. -> score 0\n",
      "Action: open door to hallway -> Obs: The door is now open. -> score 0\n",
      "Action: go to hallway -> Obs: You move to the hallway. -> score 0\n",
      "Action: open door to workshop -> Obs: The door is now open. -> score 0\n",
      "Action: go to workshop -> Obs: You move to the workshop. -> score 3\n",
      "Action: pour glass cup into metal pot in inventory -> Obs: No known action matches that input. -> score 3\n",
      "Action: focus on substance in metal pot -> Obs: No known action matches that input. -> score 3\n",
      "No plan found for event (freeze mercury) with beliefs (['In your inventory, you see: a metal pot (containing nothing) an orange a thermometer, currently reading a temperature of 10 degrees celsius ', 'This room is called the workshop.', 'You see the agent', 'You see a substance called air', 'You see a table. On the table is: a battery, a black wire, a blue wire, a green light bulb, which is off, a paper cup (containing a substance called mercury), a red light bulb, which is off, a switch, which is off, a violet light bulb, which is off, a yellow wire.', 'You see a ultra low temperature freezer. The ultra low temperature freezer door is closed.', 'A door to the hallway (that is open)'])\n",
      "Completed keys: \n",
      "----------------------------------------------------------------------------------------------------\n",
      "Sequential Subgoals:\n",
      "----------------------------------------------------------------------------------------------------\n",
      "0\tfalse\t                                GoalFind\tfocus on substance\n",
      "1\tfalse\t                 GoalChangeStateOfMatter\tsubstance is in a solid state\n",
      "2\tfalse\t                 GoalChangeStateOfMatter\tsubstance is in a liquid state\n",
      "----------------------------------------------------------------------------------------------------\n",
      "Unordered and Optional Subgoals:\n",
      "----------------------------------------------------------------------------------------------------\n",
      "0\ttrue\t                    GoalInRoomWithObject\tbe in same location as mercury\n",
      "1\ttrue\t            GoalObjectsInSingleContainer\thave substance alone in a single container\n",
      "2\tfalse\t              GoalActivateDeviceWithName\tactivate heater (stove)\n",
      "3\tfalse\t              GoalActivateDeviceWithName\tactivate heater (blast furnace)\n",
      "4\tfalse\t              GoalActivateDeviceWithName\tactivate heater (oven)\n",
      "5\tfalse\t              GoalActivateDeviceWithName\tactivate heater (hot plate)\n",
      "6\tfalse\t     GoalSpecificObjectInDirectContainer\thave lighter in inventory\n",
      "7\tfalse\t     GoalSpecificObjectInDirectContainer\tmove wood into fire pit\n",
      "8\tfalse\t                   GoalTemperatureOnFire\tignite wood\n",
      "9\tfalse\t                   GoalObjectInContainer\thave object on heater (stove)\n",
      "10\tfalse\t                   GoalObjectInContainer\thave object on heater (blast furnace)\n",
      "11\tfalse\t                   GoalObjectInContainer\thave object on heater (oven)\n",
      "12\tfalse\t                   GoalObjectInContainer\thave object on heater (hot plate)\n",
      "13\tfalse\t                   GoalObjectInContainer\thave object on heater (fire pit)\n",
      "14\tfalse\t                 GoalTemperatureIncrease\theat object by at least 20C\n",
      "----------------------------------------------------------------------------------------------------\n",
      "\n",
      "3\n"
     ]
    }
   ],
   "source": [
    "step_function = load_step_function(env, goal=goal)\n",
    "agent = BDIAgent(plan_library=pl, nli_model=nli_model)\n",
    "last_state = agent.act(current_state, step_function=step_function)\n",
    "\n",
    "print(env.getGoalProgressStr())\n",
    "print(last_state.reward)"
   ],
   "metadata": {
    "collapsed": false,
    "ExecuteTime": {
     "start_time": "2023-09-03T11:20:24.634692Z",
     "end_time": "2023-09-03T11:20:29.188352Z"
    }
   }
  },
  {
   "cell_type": "code",
   "execution_count": 6,
   "outputs": [
    {
     "data": {
      "text/plain": "['This room is called the foundry.',\n 'You see the agent',\n 'You see a substance called air',\n 'You see a blast furnace, which is turned off. The blast furnace door is closed.',\n 'You see a sink, which is turned off. In the sink is: nothing.',\n 'You see a table. On the table is: nothing.',\n 'A door to the outside (that is open)']"
     },
     "execution_count": 6,
     "metadata": {},
     "output_type": "execute_result"
    }
   ],
   "source": [
    "last_state.look"
   ],
   "metadata": {
    "collapsed": false,
    "ExecuteTime": {
     "start_time": "2023-08-31T17:26:19.146657Z",
     "end_time": "2023-08-31T17:26:19.196766Z"
    }
   }
  },
  {
   "cell_type": "code",
   "execution_count": null,
   "outputs": [],
   "source": [],
   "metadata": {
    "collapsed": false
   }
  }
 ],
 "metadata": {
  "kernelspec": {
   "display_name": "Python 3",
   "language": "python",
   "name": "python3"
  },
  "language_info": {
   "codemirror_mode": {
    "name": "ipython",
    "version": 2
   },
   "file_extension": ".py",
   "mimetype": "text/x-python",
   "name": "python",
   "nbconvert_exporter": "python",
   "pygments_lexer": "ipython2",
   "version": "2.7.6"
  }
 },
 "nbformat": 4,
 "nbformat_minor": 0
}
