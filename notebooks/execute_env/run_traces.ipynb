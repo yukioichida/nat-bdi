{
 "cells": [
  {
   "cell_type": "code",
   "execution_count": 2,
   "metadata": {
    "collapsed": true,
    "ExecuteTime": {
     "start_time": "2023-10-12T17:05:00.876470Z",
     "end_time": "2023-10-12T17:05:01.276609Z"
    }
   },
   "outputs": [],
   "source": [
    "from scienceworld import ScienceWorldEnv\n",
    "import re\n",
    "\n",
    "import pandas as pd"
   ]
  },
  {
   "cell_type": "markdown",
   "source": [
    "# Task 1 - Your task is to boil caesium"
   ],
   "metadata": {
    "collapsed": false
   }
  },
  {
   "cell_type": "markdown",
   "source": [
    "## caesium"
   ],
   "metadata": {
    "collapsed": false
   }
  },
  {
   "cell_type": "code",
   "execution_count": 6,
   "outputs": [
    {
     "data": {
      "text/plain": "                                               action  landmark  variation  \\\n0                                open door to hallway     False          1   \n1                                       go to hallway     False          1   \n2                                open door to kitchen      True          1   \n3                                       go to kitchen      True          1   \n4                                 pick up thermometer      True          1   \n5                                       open cupboard      True          1   \n6                                   pick up metal pot      True          1   \n7                              move metal pot to sink      True          1   \n8                                       activate sink      True          1   \n9                                     deactivate sink      True          1   \n10                                  pick up metal pot      True          1   \n11                    focus on substance in metal pot      True          1   \n12                      pour metal pot into metal pot      True          1   \n13                                  pick up metal pot      True          1   \n14                            move metal pot to stove      True          1   \n15                                     activate stove      True          1   \n16                                  pick up metal pot      True          1   \n17                               open door to outside     False          1   \n18                                      go to outside     False          1   \n19                               open door to foundry     False          1   \n20                                      go to foundry     False          1   \n21                                 open blast furnace     False          1   \n22                    move metal pot to blast furnace     False          1   \n23                             activate blast furnace     False          1   \n24                     examine substance in metal pot      True          1   \n25  use thermometer in inventory on substance in m...      True          1   \n26                     examine substance in metal pot      True          1   \n\n    order                        goal      task_id  \n0       0  Your task is to boil water  task-1-boil  \n1       1  Your task is to boil water  task-1-boil  \n2       2  Your task is to boil water  task-1-boil  \n3       3  Your task is to boil water  task-1-boil  \n4       4  Your task is to boil water  task-1-boil  \n5       5  Your task is to boil water  task-1-boil  \n6       6  Your task is to boil water  task-1-boil  \n7       7  Your task is to boil water  task-1-boil  \n8       8  Your task is to boil water  task-1-boil  \n9       9  Your task is to boil water  task-1-boil  \n10     10  Your task is to boil water  task-1-boil  \n11     11  Your task is to boil water  task-1-boil  \n12     12  Your task is to boil water  task-1-boil  \n13     13  Your task is to boil water  task-1-boil  \n14     14  Your task is to boil water  task-1-boil  \n15     15  Your task is to boil water  task-1-boil  \n16     16  Your task is to boil water  task-1-boil  \n17     17  Your task is to boil water  task-1-boil  \n18     18  Your task is to boil water  task-1-boil  \n19     19  Your task is to boil water  task-1-boil  \n20     20  Your task is to boil water  task-1-boil  \n21     21  Your task is to boil water  task-1-boil  \n22     22  Your task is to boil water  task-1-boil  \n23     23  Your task is to boil water  task-1-boil  \n24     24  Your task is to boil water  task-1-boil  \n25     25  Your task is to boil water  task-1-boil  \n26     26  Your task is to boil water  task-1-boil  ",
      "text/html": "<div>\n<style scoped>\n    .dataframe tbody tr th:only-of-type {\n        vertical-align: middle;\n    }\n\n    .dataframe tbody tr th {\n        vertical-align: top;\n    }\n\n    .dataframe thead th {\n        text-align: right;\n    }\n</style>\n<table border=\"1\" class=\"dataframe\">\n  <thead>\n    <tr style=\"text-align: right;\">\n      <th></th>\n      <th>action</th>\n      <th>landmark</th>\n      <th>variation</th>\n      <th>order</th>\n      <th>goal</th>\n      <th>task_id</th>\n    </tr>\n  </thead>\n  <tbody>\n    <tr>\n      <th>0</th>\n      <td>open door to hallway</td>\n      <td>False</td>\n      <td>1</td>\n      <td>0</td>\n      <td>Your task is to boil water</td>\n      <td>task-1-boil</td>\n    </tr>\n    <tr>\n      <th>1</th>\n      <td>go to hallway</td>\n      <td>False</td>\n      <td>1</td>\n      <td>1</td>\n      <td>Your task is to boil water</td>\n      <td>task-1-boil</td>\n    </tr>\n    <tr>\n      <th>2</th>\n      <td>open door to kitchen</td>\n      <td>True</td>\n      <td>1</td>\n      <td>2</td>\n      <td>Your task is to boil water</td>\n      <td>task-1-boil</td>\n    </tr>\n    <tr>\n      <th>3</th>\n      <td>go to kitchen</td>\n      <td>True</td>\n      <td>1</td>\n      <td>3</td>\n      <td>Your task is to boil water</td>\n      <td>task-1-boil</td>\n    </tr>\n    <tr>\n      <th>4</th>\n      <td>pick up thermometer</td>\n      <td>True</td>\n      <td>1</td>\n      <td>4</td>\n      <td>Your task is to boil water</td>\n      <td>task-1-boil</td>\n    </tr>\n    <tr>\n      <th>5</th>\n      <td>open cupboard</td>\n      <td>True</td>\n      <td>1</td>\n      <td>5</td>\n      <td>Your task is to boil water</td>\n      <td>task-1-boil</td>\n    </tr>\n    <tr>\n      <th>6</th>\n      <td>pick up metal pot</td>\n      <td>True</td>\n      <td>1</td>\n      <td>6</td>\n      <td>Your task is to boil water</td>\n      <td>task-1-boil</td>\n    </tr>\n    <tr>\n      <th>7</th>\n      <td>move metal pot to sink</td>\n      <td>True</td>\n      <td>1</td>\n      <td>7</td>\n      <td>Your task is to boil water</td>\n      <td>task-1-boil</td>\n    </tr>\n    <tr>\n      <th>8</th>\n      <td>activate sink</td>\n      <td>True</td>\n      <td>1</td>\n      <td>8</td>\n      <td>Your task is to boil water</td>\n      <td>task-1-boil</td>\n    </tr>\n    <tr>\n      <th>9</th>\n      <td>deactivate sink</td>\n      <td>True</td>\n      <td>1</td>\n      <td>9</td>\n      <td>Your task is to boil water</td>\n      <td>task-1-boil</td>\n    </tr>\n    <tr>\n      <th>10</th>\n      <td>pick up metal pot</td>\n      <td>True</td>\n      <td>1</td>\n      <td>10</td>\n      <td>Your task is to boil water</td>\n      <td>task-1-boil</td>\n    </tr>\n    <tr>\n      <th>11</th>\n      <td>focus on substance in metal pot</td>\n      <td>True</td>\n      <td>1</td>\n      <td>11</td>\n      <td>Your task is to boil water</td>\n      <td>task-1-boil</td>\n    </tr>\n    <tr>\n      <th>12</th>\n      <td>pour metal pot into metal pot</td>\n      <td>True</td>\n      <td>1</td>\n      <td>12</td>\n      <td>Your task is to boil water</td>\n      <td>task-1-boil</td>\n    </tr>\n    <tr>\n      <th>13</th>\n      <td>pick up metal pot</td>\n      <td>True</td>\n      <td>1</td>\n      <td>13</td>\n      <td>Your task is to boil water</td>\n      <td>task-1-boil</td>\n    </tr>\n    <tr>\n      <th>14</th>\n      <td>move metal pot to stove</td>\n      <td>True</td>\n      <td>1</td>\n      <td>14</td>\n      <td>Your task is to boil water</td>\n      <td>task-1-boil</td>\n    </tr>\n    <tr>\n      <th>15</th>\n      <td>activate stove</td>\n      <td>True</td>\n      <td>1</td>\n      <td>15</td>\n      <td>Your task is to boil water</td>\n      <td>task-1-boil</td>\n    </tr>\n    <tr>\n      <th>16</th>\n      <td>pick up metal pot</td>\n      <td>True</td>\n      <td>1</td>\n      <td>16</td>\n      <td>Your task is to boil water</td>\n      <td>task-1-boil</td>\n    </tr>\n    <tr>\n      <th>17</th>\n      <td>open door to outside</td>\n      <td>False</td>\n      <td>1</td>\n      <td>17</td>\n      <td>Your task is to boil water</td>\n      <td>task-1-boil</td>\n    </tr>\n    <tr>\n      <th>18</th>\n      <td>go to outside</td>\n      <td>False</td>\n      <td>1</td>\n      <td>18</td>\n      <td>Your task is to boil water</td>\n      <td>task-1-boil</td>\n    </tr>\n    <tr>\n      <th>19</th>\n      <td>open door to foundry</td>\n      <td>False</td>\n      <td>1</td>\n      <td>19</td>\n      <td>Your task is to boil water</td>\n      <td>task-1-boil</td>\n    </tr>\n    <tr>\n      <th>20</th>\n      <td>go to foundry</td>\n      <td>False</td>\n      <td>1</td>\n      <td>20</td>\n      <td>Your task is to boil water</td>\n      <td>task-1-boil</td>\n    </tr>\n    <tr>\n      <th>21</th>\n      <td>open blast furnace</td>\n      <td>False</td>\n      <td>1</td>\n      <td>21</td>\n      <td>Your task is to boil water</td>\n      <td>task-1-boil</td>\n    </tr>\n    <tr>\n      <th>22</th>\n      <td>move metal pot to blast furnace</td>\n      <td>False</td>\n      <td>1</td>\n      <td>22</td>\n      <td>Your task is to boil water</td>\n      <td>task-1-boil</td>\n    </tr>\n    <tr>\n      <th>23</th>\n      <td>activate blast furnace</td>\n      <td>False</td>\n      <td>1</td>\n      <td>23</td>\n      <td>Your task is to boil water</td>\n      <td>task-1-boil</td>\n    </tr>\n    <tr>\n      <th>24</th>\n      <td>examine substance in metal pot</td>\n      <td>True</td>\n      <td>1</td>\n      <td>24</td>\n      <td>Your task is to boil water</td>\n      <td>task-1-boil</td>\n    </tr>\n    <tr>\n      <th>25</th>\n      <td>use thermometer in inventory on substance in m...</td>\n      <td>True</td>\n      <td>1</td>\n      <td>25</td>\n      <td>Your task is to boil water</td>\n      <td>task-1-boil</td>\n    </tr>\n    <tr>\n      <th>26</th>\n      <td>examine substance in metal pot</td>\n      <td>True</td>\n      <td>1</td>\n      <td>26</td>\n      <td>Your task is to boil water</td>\n      <td>task-1-boil</td>\n    </tr>\n  </tbody>\n</table>\n</div>"
     },
     "execution_count": 6,
     "metadata": {},
     "output_type": "execute_result"
    }
   ],
   "source": [
    "#\n",
    "variation = 1\n",
    "# 1 and 7 is generating the corect plan\n",
    "#task_df = pd.read_csv(f\"../../plans/plans_csv/task-3-find-non-living-thing/your_task_is_to_find_a(n)_non-living_thing/{variation}.csv\")\n",
    "task_df = pd.read_csv(f\"../../plans/plans_csv/task-1-boil/your_task_is_to_boil_water/{variation}.csv\")\n",
    "task_df"
   ],
   "metadata": {
    "collapsed": false,
    "ExecuteTime": {
     "start_time": "2023-10-12T17:05:34.349034Z",
     "end_time": "2023-10-12T17:05:34.373563Z"
    }
   }
  },
  {
   "cell_type": "code",
   "execution_count": 8,
   "outputs": [
    {
     "name": "stdout",
     "output_type": "stream",
     "text": [
      "Your task is to boil water. For compounds without a boiling point, combusting the substance is also acceptable. First, focus on the substance. Then, take actions that will cause it to change its state of matter.\n",
      "Your task is to boil water. For compounds without a boiling point, combusting the substance is also acceptable. First, focus on the substance. Then, take actions that will cause it to change its state of matter.\n",
      "---- Step 0 | action: open door to hallway | Finish False | reward 0 -----\n",
      "The door is now open.\n",
      "---- Step 1 | action: go to hallway | Finish False | reward 0 -----\n",
      "You move to the hallway.\n",
      "---- Step 2 | action: open door to kitchen | Finish False | reward 0 -----\n",
      "The door is now open.\n",
      "---- Step 3 | action: go to kitchen | Finish False | reward 0 -----\n",
      "You move to the kitchen.\n",
      "---- Step 4 | action: pick up thermometer | Finish False | reward 0 -----\n",
      "You move the thermometer to the inventory.\n",
      "---- Step 5 | action: open cupboard | Finish False | reward 0 -----\n",
      "The cupboard is now open.\n",
      "---- Step 6 | action: pick up metal pot | Finish False | reward 0 -----\n",
      "You move the metal pot to the inventory.\n",
      "---- Step 7 | action: move metal pot to sink | Finish False | reward 0 -----\n",
      "You move the metal pot to the sink.\n",
      "---- Step 8 | action: activate sink | Finish False | reward 3 -----\n",
      "The sink is now activated.\n",
      "---- Step 9 | action: deactivate sink | Finish False | reward 0 -----\n",
      "The sink is now deactivated.\n",
      "---- Step 10 | action: pick up metal pot | Finish False | reward 0 -----\n",
      "You move the metal pot to the inventory.\n",
      "---- Step 11 | action: focus on substance in metal pot | Finish False | reward 67 -----\n",
      "You focus on the water.\n",
      "---- Step 12 | action: pour metal pot into metal pot | Finish False | reward 0 -----\n",
      "You can't move something into itself.\n",
      "---- Step 13 | action: pick up metal pot | Finish False | reward 0 -----\n",
      "You move the metal pot to the inventory.\n",
      "---- Step 14 | action: move metal pot to stove | Finish False | reward 2 -----\n",
      "You move the metal pot to the stove.\n",
      "---- Step 15 | action: activate stove | Finish False | reward 0 -----\n",
      "The stove appears broken, and can't be activated or deactivated.\n",
      "---- Step 16 | action: pick up metal pot | Finish False | reward 0 -----\n",
      "You move the metal pot to the inventory.\n",
      "---- Step 17 | action: open door to outside | Finish False | reward 0 -----\n",
      "The door is now open.\n",
      "---- Step 18 | action: go to outside | Finish False | reward 0 -----\n",
      "You move to the outside.\n",
      "---- Step 19 | action: open door to foundry | Finish False | reward 0 -----\n",
      "The door is now open.\n",
      "---- Step 20 | action: go to foundry | Finish False | reward 0 -----\n",
      "You move to the foundry.\n",
      "---- Step 21 | action: open blast furnace | Finish False | reward 0 -----\n",
      "The blast furnace is now open.\n",
      "---- Step 22 | action: move metal pot to blast furnace | Finish False | reward 1 -----\n",
      "You move the metal pot to the blast furnace.\n",
      "---- Step 23 | action: activate blast furnace | Finish False | reward 2 -----\n",
      "The blast furnace is now activated.\n",
      "---- Step 24 | action: examine substance in metal pot | Finish False | reward 2 -----\n",
      "a substance called water\n",
      "---- Step 25 | action: use thermometer in inventory on substance in metal pot | Finish False | reward 0 -----\n",
      "the thermometer measures a temperature of 50 degrees celsius\n",
      "---- Step 26 | action: examine substance in metal pot | Finish True | reward 23 -----\n",
      "a substance called water\n",
      "This room is called the foundry. In it, you see: \n",
      "\tthe agent\n",
      "\ta substance called air\n",
      "\ta blast furnace, which is turned on. The blast furnace door is open. In the blast furnace is: a metal pot (containing a substance called steam).\n",
      "\ta sink, which is turned off. In the sink is: nothing.\n",
      "\ta table. On the table is: nothing.\n",
      "You also see:\n",
      "\tA door to the outside (that is open)\n",
      "\n",
      "Finished: True\n",
      "Completed keys: \n",
      "----------------------------------------------------------------------------------------------------\n",
      "Sequential Subgoals:\n",
      "----------------------------------------------------------------------------------------------------\n",
      "0\ttrue\t                                GoalFind\tfocus on substance\n",
      "1\ttrue\t                 GoalChangeStateOfMatter\tsubstance is in a liquid state\n",
      "2\ttrue\t                 GoalChangeStateOfMatter\tsubstance is in a gaseous state (or combusting)\n",
      "----------------------------------------------------------------------------------------------------\n",
      "Unordered and Optional Subgoals:\n",
      "----------------------------------------------------------------------------------------------------\n",
      "0\ttrue\t                    GoalInRoomWithObject\tbe in same location as water\n",
      "1\ttrue\t            GoalObjectsInSingleContainer\thave substance alone in a single container\n",
      "2\tfalse\t              GoalActivateDeviceWithName\tactivate heater (stove)\n",
      "3\ttrue\t              GoalActivateDeviceWithName\tactivate heater (blast furnace)\n",
      "4\tfalse\t              GoalActivateDeviceWithName\tactivate heater (oven)\n",
      "5\tfalse\t              GoalActivateDeviceWithName\tactivate heater (hot plate)\n",
      "6\tfalse\t     GoalSpecificObjectInDirectContainer\thave lighter in inventory\n",
      "7\tfalse\t     GoalSpecificObjectInDirectContainer\tmove wood into fire pit\n",
      "8\tfalse\t                   GoalTemperatureOnFire\tignite wood\n",
      "9\ttrue\t                   GoalObjectInContainer\thave object on heater (stove)\n",
      "10\ttrue\t                   GoalObjectInContainer\thave object on heater (blast furnace)\n",
      "11\tfalse\t                   GoalObjectInContainer\thave object on heater (oven)\n",
      "12\tfalse\t                   GoalObjectInContainer\thave object on heater (hot plate)\n",
      "13\tfalse\t                   GoalObjectInContainer\thave object on heater (fire pit)\n",
      "14\ttrue\t                 GoalTemperatureIncrease\theat object by at least 20C\n",
      "----------------------------------------------------------------------------------------------------\n",
      "\n"
     ]
    }
   ],
   "source": [
    "env = ScienceWorldEnv(\"\", \"\", envStepLimit=100)\n",
    "#task_name = 'find-non-living-thing'\n",
    "task_name = 'boil'\n",
    "plan = task_df['action']\n",
    "env.load(task_name, variation)\n",
    "\n",
    "print(env.getTaskDescription())\n",
    "print(env.getTaskDescription().replace(\". First, focus on the thing. Then,\", \"\").replace(\"move\", \"by moving\"))\n",
    "\n",
    "# Reset the environment\n",
    "observation, info = env.reset()\n",
    "for i, action in enumerate(plan):\n",
    "    action = action.replace(\"green house\", \"greenhouse\")\n",
    "    observation, reward, isCompleted, info = env.step(action)\n",
    "    print(f\"---- Step {i} | action: {action} | Finish {isCompleted} | reward {reward} -----\")\n",
    "    print(observation)\n",
    "print(info['look'])\n",
    "print(f\"Finished: {isCompleted}\")\n",
    "print(env.getGoalProgressStr())"
   ],
   "metadata": {
    "collapsed": false,
    "ExecuteTime": {
     "start_time": "2023-10-12T17:05:53.084387Z",
     "end_time": "2023-10-12T17:05:57.749200Z"
    }
   }
  },
  {
   "cell_type": "code",
   "execution_count": 9,
   "outputs": [
    {
     "data": {
      "text/plain": "'In your inventory, you see:\\n\\tan orange\\n\\ta thermometer, currently reading a temperature of 10 degrees celsius\\n'"
     },
     "execution_count": 9,
     "metadata": {},
     "output_type": "execute_result"
    }
   ],
   "source": [
    "info['inv']"
   ],
   "metadata": {
    "collapsed": false,
    "ExecuteTime": {
     "start_time": "2023-10-12T17:06:10.458148Z",
     "end_time": "2023-10-12T17:06:10.517402Z"
    }
   }
  },
  {
   "cell_type": "code",
   "execution_count": 7,
   "outputs": [
    {
     "data": {
      "text/plain": "                                                 goal\n0   Your task is to find a(n) non-living thing by ...\n1   Your task is to find a(n) non-living thing by ...\n2   Your task is to find a(n) non-living thing by ...\n3   Your task is to find a(n) non-living thing by ...\n4   Your task is to find a(n) non-living thing by ...\n5   Your task is to find a(n) non-living thing by ...\n6   Your task is to find a(n) non-living thing by ...\n7   Your task is to find a(n) non-living thing by ...\n8   Your task is to find a(n) non-living thing by ...\n9   Your task is to find a(n) non-living thing by ...\n10  Your task is to find a(n) non-living thing by ...\n11  Your task is to find a(n) non-living thing by ...\n12  Your task is to find a(n) non-living thing by ...\n13  Your task is to find a(n) non-living thing by ...\n14  Your task is to find a(n) non-living thing by ...\n15  Your task is to find a(n) non-living thing by ...\n16  Your task is to find a(n) non-living thing by ...\n17  Your task is to find a(n) non-living thing by ...\n18  Your task is to find a(n) non-living thing by ...\n19  Your task is to find a(n) non-living thing by ...\n20  Your task is to find a(n) non-living thing by ...\n21  Your task is to find a(n) non-living thing by ...\n22  Your task is to find a(n) non-living thing by ...\n23  Your task is to find a(n) non-living thing by ...\n24  Your task is to find a(n) non-living thing by ...\n25  Your task is to find a(n) non-living thing by ...\n26  Your task is to find a(n) non-living thing by ...\n27  Your task is to find a(n) non-living thing by ...\n28  Your task is to find a(n) non-living thing by ...\n29  Your task is to find a(n) non-living thing by ...",
      "text/html": "<div>\n<style scoped>\n    .dataframe tbody tr th:only-of-type {\n        vertical-align: middle;\n    }\n\n    .dataframe tbody tr th {\n        vertical-align: top;\n    }\n\n    .dataframe thead th {\n        text-align: right;\n    }\n</style>\n<table border=\"1\" class=\"dataframe\">\n  <thead>\n    <tr style=\"text-align: right;\">\n      <th></th>\n      <th>goal</th>\n    </tr>\n  </thead>\n  <tbody>\n    <tr>\n      <th>0</th>\n      <td>Your task is to find a(n) non-living thing by ...</td>\n    </tr>\n    <tr>\n      <th>1</th>\n      <td>Your task is to find a(n) non-living thing by ...</td>\n    </tr>\n    <tr>\n      <th>2</th>\n      <td>Your task is to find a(n) non-living thing by ...</td>\n    </tr>\n    <tr>\n      <th>3</th>\n      <td>Your task is to find a(n) non-living thing by ...</td>\n    </tr>\n    <tr>\n      <th>4</th>\n      <td>Your task is to find a(n) non-living thing by ...</td>\n    </tr>\n    <tr>\n      <th>5</th>\n      <td>Your task is to find a(n) non-living thing by ...</td>\n    </tr>\n    <tr>\n      <th>6</th>\n      <td>Your task is to find a(n) non-living thing by ...</td>\n    </tr>\n    <tr>\n      <th>7</th>\n      <td>Your task is to find a(n) non-living thing by ...</td>\n    </tr>\n    <tr>\n      <th>8</th>\n      <td>Your task is to find a(n) non-living thing by ...</td>\n    </tr>\n    <tr>\n      <th>9</th>\n      <td>Your task is to find a(n) non-living thing by ...</td>\n    </tr>\n    <tr>\n      <th>10</th>\n      <td>Your task is to find a(n) non-living thing by ...</td>\n    </tr>\n    <tr>\n      <th>11</th>\n      <td>Your task is to find a(n) non-living thing by ...</td>\n    </tr>\n    <tr>\n      <th>12</th>\n      <td>Your task is to find a(n) non-living thing by ...</td>\n    </tr>\n    <tr>\n      <th>13</th>\n      <td>Your task is to find a(n) non-living thing by ...</td>\n    </tr>\n    <tr>\n      <th>14</th>\n      <td>Your task is to find a(n) non-living thing by ...</td>\n    </tr>\n    <tr>\n      <th>15</th>\n      <td>Your task is to find a(n) non-living thing by ...</td>\n    </tr>\n    <tr>\n      <th>16</th>\n      <td>Your task is to find a(n) non-living thing by ...</td>\n    </tr>\n    <tr>\n      <th>17</th>\n      <td>Your task is to find a(n) non-living thing by ...</td>\n    </tr>\n    <tr>\n      <th>18</th>\n      <td>Your task is to find a(n) non-living thing by ...</td>\n    </tr>\n    <tr>\n      <th>19</th>\n      <td>Your task is to find a(n) non-living thing by ...</td>\n    </tr>\n    <tr>\n      <th>20</th>\n      <td>Your task is to find a(n) non-living thing by ...</td>\n    </tr>\n    <tr>\n      <th>21</th>\n      <td>Your task is to find a(n) non-living thing by ...</td>\n    </tr>\n    <tr>\n      <th>22</th>\n      <td>Your task is to find a(n) non-living thing by ...</td>\n    </tr>\n    <tr>\n      <th>23</th>\n      <td>Your task is to find a(n) non-living thing by ...</td>\n    </tr>\n    <tr>\n      <th>24</th>\n      <td>Your task is to find a(n) non-living thing by ...</td>\n    </tr>\n    <tr>\n      <th>25</th>\n      <td>Your task is to find a(n) non-living thing by ...</td>\n    </tr>\n    <tr>\n      <th>26</th>\n      <td>Your task is to find a(n) non-living thing by ...</td>\n    </tr>\n    <tr>\n      <th>27</th>\n      <td>Your task is to find a(n) non-living thing by ...</td>\n    </tr>\n    <tr>\n      <th>28</th>\n      <td>Your task is to find a(n) non-living thing by ...</td>\n    </tr>\n    <tr>\n      <th>29</th>\n      <td>Your task is to find a(n) non-living thing by ...</td>\n    </tr>\n  </tbody>\n</table>\n</div>"
     },
     "execution_count": 7,
     "metadata": {},
     "output_type": "execute_result"
    }
   ],
   "source": [
    "all_goals = []\n",
    "for v in env.getVariationsTest():\n",
    "    env.load(task_name, v)\n",
    "    goal = env.getTaskDescription().replace(\". First, focus on the thing. Then,\", \"\").replace(\"move\", \"by moving\")\n",
    "    all_goals.append({'goal': goal})\n",
    "\n",
    "pd.DataFrame(all_goals).drop_duplicates()"
   ],
   "metadata": {
    "collapsed": false,
    "ExecuteTime": {
     "start_time": "2023-09-12T09:52:06.390002Z",
     "end_time": "2023-09-12T09:52:08.748066Z"
    }
   }
  },
  {
   "cell_type": "code",
   "execution_count": null,
   "outputs": [],
   "source": [],
   "metadata": {
    "collapsed": false
   }
  }
 ],
 "metadata": {
  "kernelspec": {
   "display_name": "Python 3",
   "language": "python",
   "name": "python3"
  },
  "language_info": {
   "codemirror_mode": {
    "name": "ipython",
    "version": 2
   },
   "file_extension": ".py",
   "mimetype": "text/x-python",
   "name": "python",
   "nbconvert_exporter": "python",
   "pygments_lexer": "ipython2",
   "version": "2.7.6"
  }
 },
 "nbformat": 4,
 "nbformat_minor": 0
}
