{
 "cells": [
  {
   "cell_type": "code",
   "execution_count": null,
   "metadata": {
    "collapsed": true
   },
   "outputs": [],
   "source": [
    "import random\n",
    "import torch\n",
    "\n",
    "from sources.drrn.drrn_agent import DRRN_Agent\n",
    "from scienceworld import ScienceWorldEnv\n",
    "\n",
    "seed = 42\n",
    "torch.random.manual_seed(seed)\n",
    "random.seed(seed)\n",
    "\n",
    "task = 'melt'\n",
    "model_file = ''\n",
    "variation = 21"
   ]
  },
  {
   "cell_type": "code",
   "execution_count": null,
   "outputs": [],
   "source": [
    "env = ScienceWorldEnv(\"\", \"\", envStepLimit=100)\n",
    "env.load(task, 0)\n",
    "env.load(task, variation, simplificationStr=\"easy\")"
   ],
   "metadata": {
    "collapsed": false
   }
  },
  {
   "cell_type": "code",
   "execution_count": null,
   "outputs": [],
   "source": [
    "\n",
    "drrn_agent = DRRN_Agent(spm_path=\"models/spm_models/unigram_8k.model\")\n",
    "drrn_agent.load(drrn_model_file)\n",
    "observation, reward, isCompleted, info = env.step('look around')\n",
    "rl_actions = []\n",
    "for _ in range(100):  # stepLimits\n",
    "    drrn_state = drrn_agent.build_state(obs=observation, inv=info['inv'], look=info['look'])\n",
    "    valid_ids = drrn_agent.encode(info['valid'])\n",
    "    _, action_idx, action_values = drrn_agent.act([drrn_state], [valid_ids], sample=False)\n",
    "    action_idx = action_idx[0]\n",
    "    action_str = info['valid'][action_idx]\n",
    "    rl_actions.append(action_str)\n",
    "    observation, reward, isCompleted, info = env.step(action_str)\n",
    "    if isCompleted:\n",
    "        break"
   ],
   "metadata": {
    "collapsed": false
   }
  }
 ],
 "metadata": {
  "kernelspec": {
   "display_name": "Python 3",
   "language": "python",
   "name": "python3"
  },
  "language_info": {
   "codemirror_mode": {
    "name": "ipython",
    "version": 2
   },
   "file_extension": ".py",
   "mimetype": "text/x-python",
   "name": "python",
   "nbconvert_exporter": "python",
   "pygments_lexer": "ipython2",
   "version": "2.7.6"
  }
 },
 "nbformat": 4,
 "nbformat_minor": 0
}
