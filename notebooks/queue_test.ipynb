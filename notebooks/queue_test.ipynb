{
 "cells": [
  {
   "cell_type": "code",
   "execution_count": 2,
   "outputs": [],
   "source": [
    "\n",
    "\n",
    "from sources.bdi_components.plans import PlanLibrary"
   ],
   "metadata": {
    "collapsed": false,
    "ExecuteTime": {
     "start_time": "2023-11-16T21:52:02.556975Z",
     "end_time": "2023-11-16T21:52:02.560971Z"
    }
   }
  },
  {
   "cell_type": "code",
   "execution_count": 3,
   "metadata": {
    "collapsed": true,
    "ExecuteTime": {
     "start_time": "2023-11-16T21:52:04.435057Z",
     "end_time": "2023-11-16T21:52:04.442598Z"
    }
   },
   "outputs": [
    {
     "name": "stdout",
     "output_type": "stream",
     "text": [
      "dict_keys(['freeze mercury', 'get metal pot', 'get mercury', 'refrigerate mercury', 'heat mercury on blast furnace', 'move to art studio', 'move to bedroom', 'move to greenhouse', 'move to kitchen', 'move to living room', 'move to workshop', 'move to outside', 'move to foundry', 'move to bathroom', 'move to hallway'])\n"
     ]
    }
   ],
   "source": [
    "# MAIN GOAL\n",
    "\n",
    "\n",
    "melt_plan = \"\"\"\n",
    "    IF your goal is to freeze mercury THEN\n",
    "        move to kitchen,\n",
    "        pick up thermometer,\n",
    "        get metal pot,\n",
    "        get mercury,\n",
    "        focus on substance in metal pot,\n",
    "        refrigerate mercury\n",
    "\"\"\"\n",
    "\n",
    "# get metal pot\n",
    "subplan_a = \"\"\"\n",
    "    IF your goal is to get metal pot CONSIDERING you are in the kitchen AND you see a cupboard THEN\n",
    "        open cupboard,\n",
    "        pick up metal pot\n",
    "\"\"\"\n",
    "\n",
    "\n",
    "subplan_b = \"\"\"\n",
    "    IF your goal is to get mercury CONSIDERING you are not in workshop AND you have metal pot in your inventory THEN\n",
    "        move to workshop,\n",
    "        pour cup into metal pot in inventory\n",
    "\"\"\"\n",
    "\n",
    "subplan_c = \"\"\"\n",
    "    IF your goal is to refrigerate mercury CONSIDERING you have a metal pot with mercury in your inventory THEN\n",
    "        move to workshop,\n",
    "        open freezer,\n",
    "        move metal pot to freezer,\n",
    "        wait,\n",
    "        wait,\n",
    "        use thermometer on metal pot,\n",
    "        focus on substance in metal pot,\n",
    "        pick up metal pot\n",
    "\"\"\"\n",
    "\n",
    "# heat water on stove\n",
    "subplan_d = \"\"\"\n",
    "    IF your goal is to heat mercury on blast furnace CONSIDERING you have metal pot with mercury in your inventory THEN\n",
    "        move to foundry,\n",
    "        open blast furnace,\n",
    "        move metal pot to blast furnace,\n",
    "        activate blast furnace,\n",
    "        use thermometer on metal pot,\n",
    "        focus on substance in metal pot,\n",
    "        wait,\n",
    "        use thermometer on metal pot\n",
    "\"\"\"\n",
    "\n",
    "all_plans = [melt_plan, subplan_a, subplan_b, subplan_c, subplan_d]\n",
    "\n",
    "pl = PlanLibrary()\n",
    "pl.load_plans_from_strings(all_plans)  # load plans from strings above\n",
    "pl.load_plans_from_file(\"plans_navigation.txt\")  # load plans from file\n",
    "print(pl.plans.keys())"
   ]
  },
  {
   "cell_type": "code",
   "execution_count": 12,
   "outputs": [
    {
     "name": "stdout",
     "output_type": "stream",
     "text": [
      "--- queue deque(['freeze mercury']) ---\n",
      "Executing event -> freeze mercury -> queue deque([])\n",
      "Executing intention structure deque(['move to kitchen', 'pick up thermometer', 'get metal pot', 'get mercury', 'focus on substance in metal pot', 'refrigerate mercury', 'finish'])\n",
      "+!g Including goal addition event: move to kitchen\n",
      "Executing event -> move to kitchen -> queue deque([])\n",
      "Executing intention structure deque(['open door to kitchen', 'go to kitchen', 'pick up thermometer', 'get metal pot', 'get mercury', 'focus on substance in metal pot', 'refrigerate mercury', 'finish'])\n",
      "Executing action open door to kitchen\n",
      "Executing intention structure deque(['go to kitchen', 'pick up thermometer', 'get metal pot', 'get mercury', 'focus on substance in metal pot', 'refrigerate mercury', 'finish'])\n",
      "Executing action go to kitchen\n",
      "Executing intention structure deque(['pick up thermometer', 'get metal pot', 'get mercury', 'focus on substance in metal pot', 'refrigerate mercury', 'finish'])\n",
      "Executing action pick up thermometer\n",
      "Executing intention structure deque(['get metal pot', 'get mercury', 'focus on substance in metal pot', 'refrigerate mercury', 'finish'])\n",
      "+!g Including goal addition event: get metal pot\n",
      "Executing event -> get metal pot -> queue deque([])\n",
      "Executing intention structure deque(['open cupboard', 'pick up metal pot', 'get mercury', 'focus on substance in metal pot', 'refrigerate mercury', 'finish'])\n",
      "Executing action open cupboard\n",
      "Executing intention structure deque(['pick up metal pot', 'get mercury', 'focus on substance in metal pot', 'refrigerate mercury', 'finish'])\n",
      "Executing action pick up metal pot\n",
      "Executing intention structure deque(['get mercury', 'focus on substance in metal pot', 'refrigerate mercury', 'finish'])\n",
      "+!g Including goal addition event: get mercury\n",
      "Executing event -> get mercury -> queue deque([])\n",
      "Executing intention structure deque(['move to workshop', 'pour cup into metal pot in inventory', 'focus on substance in metal pot', 'refrigerate mercury', 'finish'])\n",
      "+!g Including goal addition event: move to workshop\n",
      "Executing event -> move to workshop -> queue deque([])\n",
      "Executing intention structure deque(['open door to workshop', 'go to workshop', 'pour cup into metal pot in inventory', 'focus on substance in metal pot', 'refrigerate mercury', 'finish'])\n",
      "Executing action open door to workshop\n",
      "Executing intention structure deque(['go to workshop', 'pour cup into metal pot in inventory', 'focus on substance in metal pot', 'refrigerate mercury', 'finish'])\n",
      "Executing action go to workshop\n",
      "Executing intention structure deque(['pour cup into metal pot in inventory', 'focus on substance in metal pot', 'refrigerate mercury', 'finish'])\n",
      "Executing action pour cup into metal pot in inventory\n",
      "Executing intention structure deque(['focus on substance in metal pot', 'refrigerate mercury', 'finish'])\n",
      "Executing action focus on substance in metal pot\n",
      "Executing intention structure deque(['refrigerate mercury', 'finish'])\n",
      "+!g Including goal addition event: refrigerate mercury\n",
      "Executing event -> refrigerate mercury -> queue deque([])\n",
      "Executing intention structure deque(['move to workshop', 'open freezer', 'move metal pot to freezer', 'wait', 'wait', 'use thermometer on metal pot', 'focus on substance in metal pot', 'pick up metal pot', 'finish'])\n",
      "+!g Including goal addition event: move to workshop\n",
      "Executing event -> move to workshop -> queue deque([])\n",
      "Executing intention structure deque(['open door to workshop', 'go to workshop', 'open freezer', 'move metal pot to freezer', 'wait', 'wait', 'use thermometer on metal pot', 'focus on substance in metal pot', 'pick up metal pot', 'finish'])\n",
      "Executing action open door to workshop\n",
      "Executing intention structure deque(['go to workshop', 'open freezer', 'move metal pot to freezer', 'wait', 'wait', 'use thermometer on metal pot', 'focus on substance in metal pot', 'pick up metal pot', 'finish'])\n",
      "Executing action go to workshop\n",
      "Executing intention structure deque(['open freezer', 'move metal pot to freezer', 'wait', 'wait', 'use thermometer on metal pot', 'focus on substance in metal pot', 'pick up metal pot', 'finish'])\n",
      "Executing action open freezer\n",
      "Executing intention structure deque(['move metal pot to freezer', 'wait', 'wait', 'use thermometer on metal pot', 'focus on substance in metal pot', 'pick up metal pot', 'finish'])\n",
      "Executing action move metal pot to freezer\n",
      "Executing intention structure deque(['wait', 'wait', 'use thermometer on metal pot', 'focus on substance in metal pot', 'pick up metal pot', 'finish'])\n",
      "Executing action wait\n",
      "Executing intention structure deque(['wait', 'use thermometer on metal pot', 'focus on substance in metal pot', 'pick up metal pot', 'finish'])\n",
      "Executing action wait\n",
      "Executing intention structure deque(['use thermometer on metal pot', 'focus on substance in metal pot', 'pick up metal pot', 'finish'])\n",
      "Executing action use thermometer on metal pot\n",
      "Executing intention structure deque(['focus on substance in metal pot', 'pick up metal pot', 'finish'])\n",
      "Executing action focus on substance in metal pot\n",
      "Executing intention structure deque(['pick up metal pot', 'finish'])\n",
      "Executing action pick up metal pot\n",
      "Executing intention structure deque(['finish'])\n"
     ]
    }
   ],
   "source": [
    " # TODO: rever termo \"state\", talvez mudar para \"belief base\"\n",
    "import collections\n",
    "\n",
    "event_queue = collections.deque()\n",
    "# Each individual intention is a stack of steps to be executed, with the next executable step being the one at the top of the stack.\n",
    "intention_stack = collections.deque()\n",
    "intention_stack.append(\"finish\")\n",
    "\n",
    "event_queue.append(\"freeze mercury\")\n",
    "#intention_stack.append() # updateEvents (perceiveEvents) perceived an goal addition event\n",
    "\n",
    "actions = []\n",
    "print(f\"--- queue {event_queue} ---\")\n",
    "\n",
    "#while len(intention_stack) > 0:\n",
    "while True:\n",
    "\n",
    "\n",
    "    # SELECT OPTIONS\n",
    "    if len(event_queue) > 0:\n",
    "        event = event_queue.popleft() # get event\n",
    "        print(f\"Executing event -> {event} -> queue {event_queue}\")\n",
    "\n",
    "        if event != \"next\":\n",
    "            plans = pl.plans[event] # selectPlans\n",
    "            option = plans[0] # pick one option\n",
    "            for bd in reversed(option.body):\n",
    "                intention_stack.appendleft(bd)\n",
    "\n",
    "    # EXECUTE INTENTION\n",
    "    print(f\"Executing intention structure {intention_stack}\")\n",
    "    s = intention_stack.popleft()\n",
    "    if s == 'finish':\n",
    "        break\n",
    "    if s in pl.plans.keys(): # if s in an subgoal\n",
    "        print(f\"+!g Including goal addition event: {s}\")\n",
    "        event_queue.appendleft(s)\n",
    "    else:\n",
    "        print(f\"Executing action {s}\")\n",
    "        #event_queue.appendleft(\"next\")\n",
    "        actions.append(s)\n"
   ],
   "metadata": {
    "collapsed": false,
    "ExecuteTime": {
     "start_time": "2023-11-16T21:54:36.222898Z",
     "end_time": "2023-11-16T21:54:36.242454Z"
    }
   }
  },
  {
   "cell_type": "code",
   "execution_count": 8,
   "outputs": [
    {
     "data": {
      "text/plain": "['open door to kitchen',\n 'go to kitchen',\n 'pick up thermometer',\n 'open cupboard',\n 'pick up metal pot',\n 'open door to workshop',\n 'go to workshop',\n 'pour cup into metal pot in inventory',\n 'focus on substance in metal pot',\n 'open door to workshop',\n 'go to workshop',\n 'open freezer',\n 'move metal pot to freezer',\n 'wait',\n 'wait',\n 'use thermometer on metal pot',\n 'focus on substance in metal pot',\n 'pick up metal pot']"
     },
     "execution_count": 8,
     "metadata": {},
     "output_type": "execute_result"
    }
   ],
   "source": [
    "actions"
   ],
   "metadata": {
    "collapsed": false,
    "ExecuteTime": {
     "start_time": "2023-11-16T21:52:26.385067Z",
     "end_time": "2023-11-16T21:52:26.429314Z"
    }
   }
  },
  {
   "cell_type": "code",
   "execution_count": 34,
   "outputs": [
    {
     "name": "stdout",
     "output_type": "stream",
     "text": [
      "Event -> freeze mercury -> queue deque([])\n",
      "Event -> move to kitchen -> queue deque(['pick up thermometer', 'get metal pot', 'get mercury', 'focus on substance in metal pot', 'refrigerate mercury'])\n",
      "Event -> open door to kitchen -> queue deque(['go to kitchen', 'pick up thermometer', 'get metal pot', 'get mercury', 'focus on substance in metal pot', 'refrigerate mercury'])\n",
      "Executing action open door to kitchen\n",
      "Event -> go to kitchen -> queue deque(['pick up thermometer', 'get metal pot', 'get mercury', 'focus on substance in metal pot', 'refrigerate mercury'])\n",
      "Executing action go to kitchen\n",
      "Event -> pick up thermometer -> queue deque(['get metal pot', 'get mercury', 'focus on substance in metal pot', 'refrigerate mercury'])\n",
      "Executing action pick up thermometer\n",
      "Event -> get metal pot -> queue deque(['get mercury', 'focus on substance in metal pot', 'refrigerate mercury'])\n",
      "Event -> open cupboard -> queue deque(['pick up metal pot', 'get mercury', 'focus on substance in metal pot', 'refrigerate mercury'])\n",
      "Executing action open cupboard\n",
      "Event -> pick up metal pot -> queue deque(['get mercury', 'focus on substance in metal pot', 'refrigerate mercury'])\n",
      "Executing action pick up metal pot\n",
      "Event -> get mercury -> queue deque(['focus on substance in metal pot', 'refrigerate mercury'])\n",
      "Event -> move to workshop -> queue deque(['pour cup into metal pot in inventory', 'focus on substance in metal pot', 'refrigerate mercury'])\n",
      "Event -> open door to workshop -> queue deque(['go to workshop', 'pour cup into metal pot in inventory', 'focus on substance in metal pot', 'refrigerate mercury'])\n",
      "Executing action open door to workshop\n",
      "Event -> go to workshop -> queue deque(['pour cup into metal pot in inventory', 'focus on substance in metal pot', 'refrigerate mercury'])\n",
      "Executing action go to workshop\n",
      "Event -> pour cup into metal pot in inventory -> queue deque(['focus on substance in metal pot', 'refrigerate mercury'])\n",
      "Executing action pour cup into metal pot in inventory\n",
      "Event -> focus on substance in metal pot -> queue deque(['refrigerate mercury'])\n",
      "Executing action focus on substance in metal pot\n",
      "Event -> refrigerate mercury -> queue deque([])\n",
      "Event -> move to workshop -> queue deque(['open freezer', 'move metal pot to freezer', 'wait', 'wait', 'use thermometer on metal pot', 'focus on substance in metal pot', 'pick up metal pot'])\n",
      "Event -> open door to workshop -> queue deque(['go to workshop', 'open freezer', 'move metal pot to freezer', 'wait', 'wait', 'use thermometer on metal pot', 'focus on substance in metal pot', 'pick up metal pot'])\n",
      "Executing action open door to workshop\n",
      "Event -> go to workshop -> queue deque(['open freezer', 'move metal pot to freezer', 'wait', 'wait', 'use thermometer on metal pot', 'focus on substance in metal pot', 'pick up metal pot'])\n",
      "Executing action go to workshop\n",
      "Event -> open freezer -> queue deque(['move metal pot to freezer', 'wait', 'wait', 'use thermometer on metal pot', 'focus on substance in metal pot', 'pick up metal pot'])\n",
      "Executing action open freezer\n",
      "Event -> move metal pot to freezer -> queue deque(['wait', 'wait', 'use thermometer on metal pot', 'focus on substance in metal pot', 'pick up metal pot'])\n",
      "Executing action move metal pot to freezer\n",
      "Event -> wait -> queue deque(['wait', 'use thermometer on metal pot', 'focus on substance in metal pot', 'pick up metal pot'])\n",
      "Executing action wait\n",
      "Event -> wait -> queue deque(['use thermometer on metal pot', 'focus on substance in metal pot', 'pick up metal pot'])\n",
      "Executing action wait\n",
      "Event -> use thermometer on metal pot -> queue deque(['focus on substance in metal pot', 'pick up metal pot'])\n",
      "Executing action use thermometer on metal pot\n",
      "Event -> focus on substance in metal pot -> queue deque(['pick up metal pot'])\n",
      "Executing action focus on substance in metal pot\n",
      "Event -> pick up metal pot -> queue deque([])\n",
      "Executing action pick up metal pot\n"
     ]
    }
   ],
   "source": [
    " # TODO: rever termo \"state\", talvez mudar para \"belief base\"\n",
    "import collections\n",
    "\n",
    "event_queue = collections.deque()\n",
    "intention_stack = collections.deque()\n",
    "\n",
    "event_queue.append(\"freeze mercury\") # updateEvents\n",
    "\n",
    "actions = []\n",
    "\n",
    "# select\n",
    "\n",
    "while len(event_queue) > 0:\n",
    "    event = event_queue.popleft()\n",
    "    print(f\"Event -> {event} -> queue {event_queue}\")\n",
    "    if event in pl.plans.keys(): # is a subgoal\n",
    "        plan = pl.plans[event][0] # selectOptions\n",
    "        for sub_events in reversed(plan.body):\n",
    "            event_queue.appendleft(sub_events) # goal addition\n",
    "    else: # is an action\n",
    "        print(f\"Executing action {event}\") # ExecuteIntention\n",
    "        intention_stack.append(event)"
   ],
   "metadata": {
    "collapsed": false,
    "ExecuteTime": {
     "start_time": "2023-11-16T13:11:44.523529Z",
     "end_time": "2023-11-16T13:11:44.575150Z"
    }
   }
  },
  {
   "cell_type": "code",
   "execution_count": 17,
   "outputs": [
    {
     "data": {
      "text/plain": "deque(['open door to kitchen',\n       'go to kitchen',\n       'pick up thermometer',\n       'open cupboard',\n       'pick up metal pot',\n       'open door to workshop',\n       'go to workshop',\n       'pour cup into metal pot in inventory',\n       'focus on substance in metal pot',\n       'open door to workshop',\n       'go to workshop',\n       'open freezer',\n       'move metal pot to freezer',\n       'wait',\n       'wait',\n       'use thermometer on metal pot',\n       'focus on substance in metal pot',\n       'pick up metal pot'])"
     },
     "execution_count": 17,
     "metadata": {},
     "output_type": "execute_result"
    }
   ],
   "source": [
    "intention_stack"
   ],
   "metadata": {
    "collapsed": false,
    "ExecuteTime": {
     "start_time": "2023-11-16T11:35:21.445677Z",
     "end_time": "2023-11-16T11:35:21.487121Z"
    }
   }
  },
  {
   "cell_type": "code",
   "execution_count": 27,
   "outputs": [
    {
     "data": {
      "text/plain": "['open door to kitchen', 'go to kitchen']"
     },
     "execution_count": 27,
     "metadata": {},
     "output_type": "execute_result"
    }
   ],
   "source": [
    "pl.plans['move to kitchen'][0].body"
   ],
   "metadata": {
    "collapsed": false,
    "ExecuteTime": {
     "start_time": "2023-11-16T08:25:20.178337Z",
     "end_time": "2023-11-16T08:25:20.183334Z"
    }
   }
  },
  {
   "cell_type": "code",
   "execution_count": 45,
   "outputs": [
    {
     "name": "stdout",
     "output_type": "stream",
     "text": [
      "3\n",
      "2\n",
      "1\n"
     ]
    }
   ],
   "source": [
    "for i in reversed([1,2,3]):\n",
    "    print(i)"
   ],
   "metadata": {
    "collapsed": false,
    "ExecuteTime": {
     "start_time": "2023-11-16T09:37:50.200880Z",
     "end_time": "2023-11-16T09:37:50.211027Z"
    }
   }
  },
  {
   "cell_type": "code",
   "execution_count": null,
   "outputs": [],
   "source": [],
   "metadata": {
    "collapsed": false
   }
  }
 ],
 "metadata": {
  "kernelspec": {
   "display_name": "Python 3",
   "language": "python",
   "name": "python3"
  },
  "language_info": {
   "codemirror_mode": {
    "name": "ipython",
    "version": 2
   },
   "file_extension": ".py",
   "mimetype": "text/x-python",
   "name": "python",
   "nbconvert_exporter": "python",
   "pygments_lexer": "ipython2",
   "version": "2.7.6"
  }
 },
 "nbformat": 4,
 "nbformat_minor": 0
}
