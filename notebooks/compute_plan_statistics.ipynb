{
 "cells": [
  {
   "cell_type": "code",
   "execution_count": 13,
   "metadata": {
    "collapsed": true,
    "ExecuteTime": {
     "start_time": "2023-09-30T16:50:31.047497Z",
     "end_time": "2023-09-30T16:50:31.099979Z"
    }
   },
   "outputs": [],
   "source": [
    "import pandas as pd\n",
    "from sources.bdi_components.plans import PlanLibrary\n",
    "\n",
    "def load_plan_library(plan_file: str):\n",
    "    pl = PlanLibrary()\n",
    "    pl.load_plans_from_file(plan_file)\n",
    "    pl.load_plans_from_file(\"../plans/plans_nl/plan_common.plan\")\n",
    "    pl.load_plans_from_file(\"plans_navigation.txt\")\n",
    "    return pl\n",
    "\n",
    "def get_plan_files(task: str) -> pd.DataFrame:\n",
    "    plan_files = [{\"plan_file\": f\"../plans/plans_nl/plan_{task}_100.plan\", \"pct_plans\": 100},\n",
    "                  {\"plan_file\": f\"../plans/plans_nl/plan_{task}_75.plan\", \"pct_plans\": 75},\n",
    "                  {\"plan_file\": f\"../plans/plans_nl/plan_{task}_50.plan\", \"pct_plans\": 50},\n",
    "                  {\"plan_file\": f\"../plans/plans_nl/plan_{task}_25.plan\", \"pct_plans\": 25},\n",
    "                  {\"plan_file\": f\"../plans/plans_nl/plan_{task}_0.plan\", \"pct_plans\": 0}]\n",
    "    return pd.DataFrame(plan_files).sort_values(\"pct_plans\")\n",
    "\n",
    "tasks = ['melt', 'find-non-living-thing']"
   ]
  },
  {
   "cell_type": "code",
   "execution_count": 14,
   "outputs": [
    {
     "data": {
      "text/plain": "   plans_pct                   task  num_plans  num_common_plans  \\\n0          0                   melt        180               180   \n1         25                   melt        184               180   \n2         50                   melt        187               180   \n3         75                   melt        190               180   \n4        100                   melt        193               180   \n5          0  find-non-living-thing        180               180   \n6         25  find-non-living-thing        188               180   \n7         50  find-non-living-thing        195               180   \n8         75  find-non-living-thing        203               180   \n9        100  find-non-living-thing        210               180   \n\n   num_specific_plans  \n0                   0  \n1                   4  \n2                   7  \n3                  10  \n4                  13  \n5                   0  \n6                   8  \n7                  15  \n8                  23  \n9                  30  ",
      "text/html": "<div>\n<style scoped>\n    .dataframe tbody tr th:only-of-type {\n        vertical-align: middle;\n    }\n\n    .dataframe tbody tr th {\n        vertical-align: top;\n    }\n\n    .dataframe thead th {\n        text-align: right;\n    }\n</style>\n<table border=\"1\" class=\"dataframe\">\n  <thead>\n    <tr style=\"text-align: right;\">\n      <th></th>\n      <th>plans_pct</th>\n      <th>task</th>\n      <th>num_plans</th>\n      <th>num_common_plans</th>\n      <th>num_specific_plans</th>\n    </tr>\n  </thead>\n  <tbody>\n    <tr>\n      <th>0</th>\n      <td>0</td>\n      <td>melt</td>\n      <td>180</td>\n      <td>180</td>\n      <td>0</td>\n    </tr>\n    <tr>\n      <th>1</th>\n      <td>25</td>\n      <td>melt</td>\n      <td>184</td>\n      <td>180</td>\n      <td>4</td>\n    </tr>\n    <tr>\n      <th>2</th>\n      <td>50</td>\n      <td>melt</td>\n      <td>187</td>\n      <td>180</td>\n      <td>7</td>\n    </tr>\n    <tr>\n      <th>3</th>\n      <td>75</td>\n      <td>melt</td>\n      <td>190</td>\n      <td>180</td>\n      <td>10</td>\n    </tr>\n    <tr>\n      <th>4</th>\n      <td>100</td>\n      <td>melt</td>\n      <td>193</td>\n      <td>180</td>\n      <td>13</td>\n    </tr>\n    <tr>\n      <th>5</th>\n      <td>0</td>\n      <td>find-non-living-thing</td>\n      <td>180</td>\n      <td>180</td>\n      <td>0</td>\n    </tr>\n    <tr>\n      <th>6</th>\n      <td>25</td>\n      <td>find-non-living-thing</td>\n      <td>188</td>\n      <td>180</td>\n      <td>8</td>\n    </tr>\n    <tr>\n      <th>7</th>\n      <td>50</td>\n      <td>find-non-living-thing</td>\n      <td>195</td>\n      <td>180</td>\n      <td>15</td>\n    </tr>\n    <tr>\n      <th>8</th>\n      <td>75</td>\n      <td>find-non-living-thing</td>\n      <td>203</td>\n      <td>180</td>\n      <td>23</td>\n    </tr>\n    <tr>\n      <th>9</th>\n      <td>100</td>\n      <td>find-non-living-thing</td>\n      <td>210</td>\n      <td>180</td>\n      <td>30</td>\n    </tr>\n  </tbody>\n</table>\n</div>"
     },
     "execution_count": 14,
     "metadata": {},
     "output_type": "execute_result"
    }
   ],
   "source": [
    "#180 common plans\n",
    "values = []\n",
    "for task in tasks:\n",
    "    plan_file_df = get_plan_files(task)\n",
    "    for i, row in plan_file_df.iterrows():\n",
    "        pl = load_plan_library(row['plan_file'])\n",
    "        values.append({\n",
    "            'plans_pct': row['pct_plans'],\n",
    "            'task': task,\n",
    "            'num_plans': pl.get_plan_library_length(),\n",
    "            'num_common_plans': 180,\n",
    "            'num_specific_plans': pl.get_plan_library_length() - 180\n",
    "        })\n",
    "\n",
    "result_df = pd.DataFrame(values)\n",
    "result_df"
   ],
   "metadata": {
    "collapsed": false,
    "ExecuteTime": {
     "start_time": "2023-09-30T16:50:31.303326Z",
     "end_time": "2023-09-30T16:50:31.361941Z"
    }
   }
  },
  {
   "cell_type": "code",
   "execution_count": 15,
   "outputs": [],
   "source": [
    "result_df.to_csv(\"plan_statistics.csv\", index=False)"
   ],
   "metadata": {
    "collapsed": false,
    "ExecuteTime": {
     "start_time": "2023-09-30T16:50:57.690315Z",
     "end_time": "2023-09-30T16:50:57.696603Z"
    }
   }
  },
  {
   "cell_type": "code",
   "execution_count": null,
   "outputs": [],
   "source": [],
   "metadata": {
    "collapsed": false
   }
  }
 ],
 "metadata": {
  "kernelspec": {
   "display_name": "Python 3",
   "language": "python",
   "name": "python3"
  },
  "language_info": {
   "codemirror_mode": {
    "name": "ipython",
    "version": 2
   },
   "file_extension": ".py",
   "mimetype": "text/x-python",
   "name": "python",
   "nbconvert_exporter": "python",
   "pygments_lexer": "ipython2",
   "version": "2.7.6"
  }
 },
 "nbformat": 4,
 "nbformat_minor": 0
}
