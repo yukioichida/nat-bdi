{
 "cells": [
  {
   "cell_type": "code",
   "execution_count": 1,
   "metadata": {
    "collapsed": true,
    "ExecuteTime": {
     "start_time": "2023-11-16T07:23:05.593242Z",
     "end_time": "2023-11-16T07:23:13.906008Z"
    }
   },
   "outputs": [
    {
     "name": "stderr",
     "output_type": "stream",
     "text": [
      "Found cached dataset glue (/home/ichida/.cache/huggingface/datasets/glue/mnli/1.0.0/dacbe3125aa31d7f70367a07a8a9e72a5a0bfeb5fc42e75c9db75b96da6053ad)\n"
     ]
    },
    {
     "data": {
      "text/plain": "  0%|          | 0/5 [00:00<?, ?it/s]",
      "application/vnd.jupyter.widget-view+json": {
       "version_major": 2,
       "version_minor": 0,
       "model_id": "6e9b36028f0549c1a459c1c762b55740"
      }
     },
     "metadata": {},
     "output_type": "display_data"
    }
   ],
   "source": [
    "import torch\n",
    "import torch.nn as nn\n",
    "#from scipy.spatial.distance import cosine\n",
    "from transformers import AutoModel, AutoTokenizer\n",
    "from datasets import load_dataset\n",
    "from transformers import default_data_collator\n",
    "from torch.utils.data import DataLoader\n",
    "\n",
    "# Import our models. The package will take care of downloading the models automatically\n",
    "tokenizer = AutoTokenizer.from_pretrained(\"princeton-nlp/sup-simcse-bert-base-uncased\")\n",
    "model = AutoModel.from_pretrained(\"princeton-nlp/sup-simcse-bert-base-uncased\")\n",
    "model = model.to('cuda')\n",
    "\n",
    "raw_datasets = load_dataset('glue', 'mnli')\n",
    "\n",
    "id_to_label = {\n",
    "    0: 'entailment',\n",
    "    1: 'neutral',\n",
    "    2: 'contradiction'\n",
    "}"
   ]
  },
  {
   "cell_type": "code",
   "execution_count": 2,
   "outputs": [
    {
     "data": {
      "text/plain": "  0%|          | 0/393 [00:00<?, ?ba/s]",
      "application/vnd.jupyter.widget-view+json": {
       "version_major": 2,
       "version_minor": 0,
       "model_id": "6b792f539e62413192aed4d1fb955bdb"
      }
     },
     "metadata": {},
     "output_type": "display_data"
    },
    {
     "data": {
      "text/plain": "  0%|          | 0/393 [00:00<?, ?ba/s]",
      "application/vnd.jupyter.widget-view+json": {
       "version_major": 2,
       "version_minor": 0,
       "model_id": "5cce601756a74e329ea0fc40391fa6bc"
      }
     },
     "metadata": {},
     "output_type": "display_data"
    },
    {
     "data": {
      "text/plain": "Running tokenizer on entailment dataset:   0%|          | 0/131 [00:00<?, ?ba/s]",
      "application/vnd.jupyter.widget-view+json": {
       "version_major": 2,
       "version_minor": 0,
       "model_id": "4a47397e0e3143f496717141fa49e28c"
      }
     },
     "metadata": {},
     "output_type": "display_data"
    },
    {
     "data": {
      "text/plain": "Running tokenizer on entailment dataset:   0%|          | 0/131 [00:00<?, ?ba/s]",
      "application/vnd.jupyter.widget-view+json": {
       "version_major": 2,
       "version_minor": 0,
       "model_id": "4ba52d9d069f4602a3b1c2c884d508eb"
      }
     },
     "metadata": {},
     "output_type": "display_data"
    }
   ],
   "source": [
    "def preprocess_p_function(dataset):\n",
    "    premise = tokenizer(dataset['premise'], padding=\"max_length\", max_length=64, truncation=True, return_tensors=\"pt\")\n",
    "    return premise\n",
    "\n",
    "def preprocess_h_function(dataset):\n",
    "    premise = tokenizer(dataset['hypothesis'], padding=\"max_length\", max_length=64, truncation=True, return_tensors=\"pt\")\n",
    "    return premise\n",
    "\n",
    "train_dataset = raw_datasets[\"train\"]\n",
    "entailment_ds = train_dataset.filter(lambda row: row['label'] == 0)\n",
    "nonentailment_ds = train_dataset.filter(lambda row: row['label'] != 0)\n",
    "\n",
    "p_entailment = entailment_ds.map(\n",
    "            preprocess_p_function,\n",
    "            #num_proc=20,\n",
    "            batched=True,\n",
    "            remove_columns=entailment_ds.column_names,\n",
    "            desc=\"Running tokenizer on entailment dataset\"\n",
    "        )\n",
    "\n",
    "h_entailment = entailment_ds.map(\n",
    "            preprocess_h_function,\n",
    "            #num_proc=20,\n",
    "            batched=True,\n",
    "            remove_columns=entailment_ds.column_names,\n",
    "            desc=\"Running tokenizer on entailment dataset\"\n",
    "        )\n",
    "\n",
    "p_entailment_dl = DataLoader(p_entailment, shuffle=False, collate_fn=default_data_collator, batch_size=128)\n",
    "h_entailment_dl = DataLoader(h_entailment, shuffle=False, collate_fn=default_data_collator, batch_size=128)\n"
   ],
   "metadata": {
    "collapsed": false,
    "ExecuteTime": {
     "start_time": "2023-11-16T07:23:29.061098Z",
     "end_time": "2023-11-16T07:23:43.651173Z"
    }
   }
  },
  {
   "cell_type": "code",
   "execution_count": 3,
   "outputs": [
    {
     "name": "stdout",
     "output_type": "stream",
     "text": [
      "1023\n"
     ]
    }
   ],
   "source": [
    "from tqdm import tqdm\n",
    "print(len(p_entailment_dl))"
   ],
   "metadata": {
    "collapsed": false,
    "ExecuteTime": {
     "start_time": "2023-11-16T07:23:46.333261Z",
     "end_time": "2023-11-16T07:23:46.340686Z"
    }
   }
  },
  {
   "cell_type": "code",
   "execution_count": 4,
   "outputs": [
    {
     "name": "stderr",
     "output_type": "stream",
     "text": [
      "100%|██████████| 1023/1023 [08:11<00:00,  2.08it/s]\n"
     ]
    }
   ],
   "source": [
    "cos = nn.CosineSimilarity(dim=1, eps=1e-6)\n",
    "a = []\n",
    "model.eval()\n",
    "\n",
    "total = len(p_entailment_dl)\n",
    "with torch.no_grad():\n",
    "    for prem_batch, hyp_batch in tqdm(zip(p_entailment_dl, h_entailment_dl), total=total):\n",
    "        #print(hyp_batch['input_ids'].size())\n",
    "        hyp_batch = {k:b.to(\"cuda\") for k,b in hyp_batch.items()}\n",
    "        prem_batch = {k:b.to(\"cuda\") for k,b in prem_batch.items()}\n",
    "        h_embedding = model(**hyp_batch).pooler_output\n",
    "        p_embedding = model(**prem_batch).pooler_output\n",
    "        sim = cos(p_embedding, h_embedding)\n",
    "        a.append(sim)\n",
    "        #break\n",
    "\n"
   ],
   "metadata": {
    "collapsed": false,
    "ExecuteTime": {
     "start_time": "2023-11-16T07:23:48.075070Z",
     "end_time": "2023-11-16T07:31:59.396867Z"
    }
   }
  },
  {
   "cell_type": "code",
   "execution_count": 5,
   "outputs": [
    {
     "data": {
      "text/plain": "(tensor(0.7726, device='cuda:0'),\n tensor(0.1298, device='cuda:0'),\n tensor(-0.1027, device='cuda:0'),\n tensor(1.0000, device='cuda:0'),\n tensor(0.7872, device='cuda:0'))"
     },
     "execution_count": 5,
     "metadata": {},
     "output_type": "execute_result"
    }
   ],
   "source": [
    "similarity_tensor = torch.cat(a)\n",
    "similarity_tensor.mean(), similarity_tensor.std(), similarity_tensor.min(), similarity_tensor.max(),similarity_tensor.median()"
   ],
   "metadata": {
    "collapsed": false,
    "ExecuteTime": {
     "start_time": "2023-11-16T07:32:13.149951Z",
     "end_time": "2023-11-16T07:32:13.226267Z"
    }
   }
  },
  {
   "cell_type": "code",
   "execution_count": 10,
   "outputs": [
    {
     "name": "stderr",
     "output_type": "stream",
     "text": [
      "Loading cached processed dataset at /home/ichida/.cache/huggingface/datasets/glue/mnli/1.0.0/dacbe3125aa31d7f70367a07a8a9e72a5a0bfeb5fc42e75c9db75b96da6053ad/cache-6b84bbf329aa34a3.arrow\n",
      "Loading cached processed dataset at /home/ichida/.cache/huggingface/datasets/glue/mnli/1.0.0/dacbe3125aa31d7f70367a07a8a9e72a5a0bfeb5fc42e75c9db75b96da6053ad/cache-71b2c8270053a9ef.arrow\n"
     ]
    }
   ],
   "source": [
    "p = nonentailment_ds.map(\n",
    "            preprocess_p_function,\n",
    "            #num_proc=20,\n",
    "            batched=True,\n",
    "            remove_columns=entailment_ds.column_names,\n",
    "            desc=\"Running tokenizer on entailment dataset\"\n",
    "        )\n",
    "\n",
    "h = nonentailment_ds.map(\n",
    "            preprocess_h_function,\n",
    "            #num_proc=20,\n",
    "            batched=True,\n",
    "            remove_columns=entailment_ds.column_names,\n",
    "            desc=\"Running tokenizer on entailment dataset\"\n",
    "        )\n",
    "\n",
    "p_n = DataLoader(p, shuffle=False, collate_fn=default_data_collator, batch_size=128)\n",
    "h_n = DataLoader(h, shuffle=False, collate_fn=default_data_collator, batch_size=128)"
   ],
   "metadata": {
    "collapsed": false,
    "ExecuteTime": {
     "start_time": "2023-11-16T07:35:56.308403Z",
     "end_time": "2023-11-16T07:35:56.343055Z"
    }
   }
  },
  {
   "cell_type": "code",
   "execution_count": 11,
   "outputs": [
    {
     "name": "stderr",
     "output_type": "stream",
     "text": [
      " 18%|█▊        | 361/2046 [04:00<18:41,  1.50it/s]\n"
     ]
    },
    {
     "ename": "KeyboardInterrupt",
     "evalue": "",
     "output_type": "error",
     "traceback": [
      "\u001B[0;31m---------------------------------------------------------------------------\u001B[0m",
      "\u001B[0;31mKeyboardInterrupt\u001B[0m                         Traceback (most recent call last)",
      "Cell \u001B[0;32mIn[11], line 9\u001B[0m\n\u001B[1;32m      6\u001B[0m \u001B[38;5;28;01mwith\u001B[39;00m torch\u001B[38;5;241m.\u001B[39mno_grad():\n\u001B[1;32m      7\u001B[0m     \u001B[38;5;28;01mfor\u001B[39;00m prem_batch, hyp_batch \u001B[38;5;129;01min\u001B[39;00m tqdm(\u001B[38;5;28mzip\u001B[39m(p_n, h_n), total\u001B[38;5;241m=\u001B[39mtotal):\n\u001B[1;32m      8\u001B[0m         \u001B[38;5;66;03m#print(hyp_batch['input_ids'].size())\u001B[39;00m\n\u001B[0;32m----> 9\u001B[0m         hyp_batch \u001B[38;5;241m=\u001B[39m {k:b\u001B[38;5;241m.\u001B[39mto(\u001B[38;5;124m\"\u001B[39m\u001B[38;5;124mcuda\u001B[39m\u001B[38;5;124m\"\u001B[39m) \u001B[38;5;28;01mfor\u001B[39;00m k,b \u001B[38;5;129;01min\u001B[39;00m hyp_batch\u001B[38;5;241m.\u001B[39mitems()}\n\u001B[1;32m     10\u001B[0m         prem_batch \u001B[38;5;241m=\u001B[39m {k:b\u001B[38;5;241m.\u001B[39mto(\u001B[38;5;124m\"\u001B[39m\u001B[38;5;124mcuda\u001B[39m\u001B[38;5;124m\"\u001B[39m) \u001B[38;5;28;01mfor\u001B[39;00m k,b \u001B[38;5;129;01min\u001B[39;00m prem_batch\u001B[38;5;241m.\u001B[39mitems()}\n\u001B[1;32m     11\u001B[0m         h_embedding \u001B[38;5;241m=\u001B[39m model(\u001B[38;5;241m*\u001B[39m\u001B[38;5;241m*\u001B[39mhyp_batch)\u001B[38;5;241m.\u001B[39mpooler_output\n",
      "Cell \u001B[0;32mIn[11], line 9\u001B[0m, in \u001B[0;36m<dictcomp>\u001B[0;34m(.0)\u001B[0m\n\u001B[1;32m      6\u001B[0m \u001B[38;5;28;01mwith\u001B[39;00m torch\u001B[38;5;241m.\u001B[39mno_grad():\n\u001B[1;32m      7\u001B[0m     \u001B[38;5;28;01mfor\u001B[39;00m prem_batch, hyp_batch \u001B[38;5;129;01min\u001B[39;00m tqdm(\u001B[38;5;28mzip\u001B[39m(p_n, h_n), total\u001B[38;5;241m=\u001B[39mtotal):\n\u001B[1;32m      8\u001B[0m         \u001B[38;5;66;03m#print(hyp_batch['input_ids'].size())\u001B[39;00m\n\u001B[0;32m----> 9\u001B[0m         hyp_batch \u001B[38;5;241m=\u001B[39m {k:\u001B[43mb\u001B[49m\u001B[38;5;241;43m.\u001B[39;49m\u001B[43mto\u001B[49m\u001B[43m(\u001B[49m\u001B[38;5;124;43m\"\u001B[39;49m\u001B[38;5;124;43mcuda\u001B[39;49m\u001B[38;5;124;43m\"\u001B[39;49m\u001B[43m)\u001B[49m \u001B[38;5;28;01mfor\u001B[39;00m k,b \u001B[38;5;129;01min\u001B[39;00m hyp_batch\u001B[38;5;241m.\u001B[39mitems()}\n\u001B[1;32m     10\u001B[0m         prem_batch \u001B[38;5;241m=\u001B[39m {k:b\u001B[38;5;241m.\u001B[39mto(\u001B[38;5;124m\"\u001B[39m\u001B[38;5;124mcuda\u001B[39m\u001B[38;5;124m\"\u001B[39m) \u001B[38;5;28;01mfor\u001B[39;00m k,b \u001B[38;5;129;01min\u001B[39;00m prem_batch\u001B[38;5;241m.\u001B[39mitems()}\n\u001B[1;32m     11\u001B[0m         h_embedding \u001B[38;5;241m=\u001B[39m model(\u001B[38;5;241m*\u001B[39m\u001B[38;5;241m*\u001B[39mhyp_batch)\u001B[38;5;241m.\u001B[39mpooler_output\n",
      "\u001B[0;31mKeyboardInterrupt\u001B[0m: "
     ]
    }
   ],
   "source": [
    "cos = nn.CosineSimilarity(dim=1, eps=1e-6)\n",
    "a_ne = []\n",
    "model.eval()\n",
    "\n",
    "total = len(h_n)\n",
    "with torch.no_grad():\n",
    "    for prem_batch, hyp_batch in tqdm(zip(p_n, h_n), total=total):\n",
    "        #print(hyp_batch['input_ids'].size())\n",
    "        hyp_batch = {k:b.to(\"cuda\") for k,b in hyp_batch.items()}\n",
    "        prem_batch = {k:b.to(\"cuda\") for k,b in prem_batch.items()}\n",
    "        h_embedding = model(**hyp_batch).pooler_output\n",
    "        p_embedding = model(**prem_batch).pooler_output\n",
    "        sim = cos(p_embedding, h_embedding)\n",
    "        a_ne.append(sim)\n",
    "        #break\n",
    "\n"
   ],
   "metadata": {
    "collapsed": false,
    "ExecuteTime": {
     "end_time": "2023-10-16T21:14:29.959289539Z",
     "start_time": "2023-10-16T20:25:51.016721286Z"
    }
   }
  },
  {
   "cell_type": "code",
   "execution_count": 37,
   "outputs": [
    {
     "data": {
      "text/plain": "(tensor(0.5347, device='cuda:0'),\n tensor(0.1754, device='cuda:0'),\n tensor(-0.2846, device='cuda:0'),\n tensor(0.9000, device='cuda:0'),\n tensor(0.5454, device='cuda:0'))"
     },
     "execution_count": 37,
     "metadata": {},
     "output_type": "execute_result"
    }
   ],
   "source": [
    "ne_similarity_tensor = torch.cat(a_ne)\n",
    "ne_similarity_tensor = ne_similarity_tensor[ne_similarity_tensor < 0.9]\n",
    "ne_similarity_tensor.mean(), ne_similarity_tensor.std(), ne_similarity_tensor.min(), ne_similarity_tensor.max(),ne_similarity_tensor.median()"
   ],
   "metadata": {
    "collapsed": false,
    "ExecuteTime": {
     "end_time": "2023-10-16T21:47:40.466689660Z",
     "start_time": "2023-10-16T21:47:40.422441386Z"
    }
   }
  },
  {
   "cell_type": "code",
   "execution_count": 10,
   "outputs": [
    {
     "data": {
      "text/plain": "Filter:   0%|          | 0/392702 [00:00<?, ? examples/s]",
      "application/vnd.jupyter.widget-view+json": {
       "version_major": 2,
       "version_minor": 0,
       "model_id": "348e1c77864a4fb9874b330196f7dd36"
      }
     },
     "metadata": {},
     "output_type": "display_data"
    },
    {
     "data": {
      "text/plain": "130899"
     },
     "execution_count": 10,
     "metadata": {},
     "output_type": "execute_result"
    }
   ],
   "source": [
    "ds = raw_datasets[\"train\"]\n",
    "len(ds.filter(lambda row: row['label'] == 0))"
   ],
   "metadata": {
    "collapsed": false,
    "ExecuteTime": {
     "end_time": "2023-10-16T17:31:02.993904102Z",
     "start_time": "2023-10-16T17:31:01.114275661Z"
    }
   }
  },
  {
   "cell_type": "code",
   "execution_count": 36,
   "outputs": [
    {
     "data": {
      "text/plain": "2471"
     },
     "execution_count": 36,
     "metadata": {},
     "output_type": "execute_result"
    }
   ],
   "source": [
    "len((ne_similarity_tensor > .9).nonzero(as_tuple=True)[0])"
   ],
   "metadata": {
    "collapsed": false,
    "ExecuteTime": {
     "end_time": "2023-10-16T21:47:16.194727476Z",
     "start_time": "2023-10-16T21:47:16.183754591Z"
    }
   }
  },
  {
   "cell_type": "code",
   "execution_count": 31,
   "outputs": [
    {
     "data": {
      "text/plain": "{'premise': 'mean is we moved closer, in,',\n 'hypothesis': 'mean is we moved closer, in,',\n 'label': 1,\n 'idx': 97443}"
     },
     "execution_count": 31,
     "metadata": {},
     "output_type": "execute_result"
    }
   ],
   "source": [
    "nonentailment_ds[64487]"
   ],
   "metadata": {
    "collapsed": false,
    "ExecuteTime": {
     "end_time": "2023-10-16T21:46:31.404921398Z",
     "start_time": "2023-10-16T21:46:31.360864215Z"
    }
   }
  },
  {
   "cell_type": "code",
   "execution_count": null,
   "outputs": [],
   "source": [],
   "metadata": {
    "collapsed": false
   }
  }
 ],
 "metadata": {
  "kernelspec": {
   "display_name": "Python 3",
   "language": "python",
   "name": "python3"
  },
  "language_info": {
   "codemirror_mode": {
    "name": "ipython",
    "version": 2
   },
   "file_extension": ".py",
   "mimetype": "text/x-python",
   "name": "python",
   "nbconvert_exporter": "python",
   "pygments_lexer": "ipython2",
   "version": "2.7.6"
  }
 },
 "nbformat": 4,
 "nbformat_minor": 0
}
