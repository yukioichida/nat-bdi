{
 "cells": [
  {
   "cell_type": "code",
   "execution_count": 23,
   "metadata": {
    "collapsed": true,
    "ExecuteTime": {
     "start_time": "2023-11-20T10:50:40.558068Z",
     "end_time": "2023-11-20T10:50:41.307019Z"
    }
   },
   "outputs": [],
   "source": [
    "import json\n",
    "import pandas as pd\n",
    "import torch\n",
    "from tqdm import tqdm\n",
    "\n",
    "from transformers import AutoModel, AutoTokenizer\n",
    "from transformers import default_data_collator\n",
    "from torch.utils.data import DataLoader\n",
    "\n",
    "from sources.scienceworld import parse_beliefs, parse_goal"
   ]
  },
  {
   "cell_type": "code",
   "execution_count": 2,
   "outputs": [
    {
     "data": {
      "text/plain": "dict_keys(['0', '1', '2', '3', '4', '6', '7', '8', '9', '10', '11', '12', '13', '14', '15', '16', '17', '18', '19', '20', '21', '22', '23', '24', '25', '26', '27', '28', '29'])"
     },
     "execution_count": 2,
     "metadata": {},
     "output_type": "execute_result"
    }
   ],
   "source": [
    "goldpath_file = \"../data/goldsequences-0-1-2-3-4-6-7-8-9-10-11-12-13-14-15-16-17-18-19-20-21-22-23-24-25-26-27-28-29.json\"\n",
    "#goldpath_file = \"../data/goldsequences-0.json\"\n",
    "\n",
    "with open(goldpath_file) as file:\n",
    "    data = json.load(file)\n",
    "\n",
    "data.keys()"
   ],
   "metadata": {
    "collapsed": false,
    "ExecuteTime": {
     "start_time": "2023-11-20T10:19:42.821553Z",
     "end_time": "2023-11-20T10:19:44.558211Z"
    }
   }
  },
  {
   "cell_type": "code",
   "execution_count": 14,
   "outputs": [
    {
     "name": "stderr",
     "output_type": "stream",
     "text": [
      "100%|██████████| 29/29 [04:57<00:00, 10.27s/it]"
     ]
    },
    {
     "name": "stdout",
     "output_type": "stream",
     "text": [
      "ok\n"
     ]
    },
    {
     "name": "stderr",
     "output_type": "stream",
     "text": [
      "\n"
     ]
    }
   ],
   "source": [
    "sentence_list = []\n",
    "\n",
    "all_tasks = list(data.keys())\n",
    "for task_id in tqdm(all_tasks):\n",
    "    for variation in range(0, len(data[task_id]['goldActionSequences'])):\n",
    "        trajectory = data[task_id]['goldActionSequences'][variation]\n",
    "        task = trajectory['taskDescription']\n",
    "\n",
    "        goal = parse_goal(task)\n",
    "        if goal not in sentence_list:\n",
    "            sentence_list.append(goal)\n",
    "        for step in trajectory['path']:\n",
    "            inventory = step['inventory']\n",
    "            observation = step['observation']\n",
    "            look = step['freelook']\n",
    "            if step['action'] == 'look around':  # avoid including the freelook\n",
    "                observation = \"\"\n",
    "            beliefs = parse_beliefs(observation=observation, look=look, inventory=inventory)\n",
    "            for b in beliefs:\n",
    "                if b not in sentence_list:\n",
    "                    sentence_list.append(b)\n",
    "\n",
    "print(\"ok\")\n",
    "len(sentence_list) # 57179"
   ],
   "metadata": {
    "collapsed": false,
    "ExecuteTime": {
     "start_time": "2023-11-20T10:37:47.956965Z",
     "end_time": "2023-11-20T10:42:45.817359Z"
    }
   }
  },
  {
   "cell_type": "code",
   "execution_count": 21,
   "outputs": [],
   "source": [
    "df = pd.DataFrame(data=sentence_list, columns=['sentence'])\n",
    "df.to_csv(\"all_beliefs.csv\", index=False)"
   ],
   "metadata": {
    "collapsed": false,
    "ExecuteTime": {
     "start_time": "2023-11-20T10:49:06.275301Z",
     "end_time": "2023-11-20T10:49:06.434536Z"
    }
   }
  },
  {
   "cell_type": "code",
   "execution_count": 24,
   "outputs": [],
   "source": [
    "#df = pd.read_csv(\"all_beliefs.csv\")\n",
    "tokenizer = AutoTokenizer.from_pretrained(\"princeton-nlp/sup-simcse-bert-base-uncased\")\n",
    "model = AutoModel.from_pretrained(\"princeton-nlp/sup-simcse-bert-base-uncased\")\n",
    "model = model.to('cuda')\n"
   ],
   "metadata": {
    "collapsed": false,
    "ExecuteTime": {
     "start_time": "2023-11-20T10:50:44.184393Z",
     "end_time": "2023-11-20T10:50:47.822179Z"
    }
   }
  },
  {
   "cell_type": "code",
   "execution_count": 61,
   "outputs": [],
   "source": [
    "tokenized_sentence = tokenizer(sentence_list, padding=\"max_length\", max_length=256, truncation=True, return_tensors=\"pt\")\n",
    "        #break"
   ],
   "metadata": {
    "collapsed": false,
    "ExecuteTime": {
     "start_time": "2023-11-20T11:04:40.666563Z",
     "end_time": "2023-11-20T11:04:45.931574Z"
    }
   }
  },
  {
   "cell_type": "code",
   "execution_count": 72,
   "outputs": [
    {
     "data": {
      "text/plain": "57179"
     },
     "execution_count": 72,
     "metadata": {},
     "output_type": "execute_result"
    }
   ],
   "source": [
    "import torch\n",
    "\n",
    "class CustomDataset(torch.utils.data.Dataset):\n",
    "    def __init__(self, sentences):\n",
    "        self.sentences = sentences\n",
    "\n",
    "    def __getitem__(self, idx):\n",
    "        item = {key: val[idx] for key, val in self.sentences.items()}\n",
    "        return item\n",
    "\n",
    "    def __len__(self):\n",
    "        num_sentences, _ = self.sentences['input_ids'].size()\n",
    "        return num_sentences\n",
    "\n",
    "train_dataset = CustomDataset(tokenized_sentence)\n",
    "len(train_dataset)"
   ],
   "metadata": {
    "collapsed": false,
    "ExecuteTime": {
     "start_time": "2023-11-20T11:07:51.625226Z",
     "end_time": "2023-11-20T11:07:51.670492Z"
    }
   }
  },
  {
   "cell_type": "code",
   "execution_count": 79,
   "outputs": [
    {
     "name": "stderr",
     "output_type": "stream",
     "text": [
      "100%|██████████| 224/224 [08:10<00:00,  2.19s/it]\n"
     ]
    }
   ],
   "source": [
    "dataloader = DataLoader(train_dataset, batch_size=256)\n",
    "all_embeddings = []\n",
    "model.eval()\n",
    "with torch.no_grad():\n",
    "    for batch in tqdm(dataloader):\n",
    "        x = {k:b.to(\"cuda\") for k,b in batch.items()}\n",
    "        embeddings = model(**x)\n",
    "        all_embeddings.append(embeddings.pooler_output)\n",
    "        #break\n",
    "sentences_embeddings = torch.concat(all_embeddings)"
   ],
   "metadata": {
    "collapsed": false,
    "ExecuteTime": {
     "start_time": "2023-11-20T11:18:21.381319Z",
     "end_time": "2023-11-20T11:26:31.592488Z"
    }
   }
  },
  {
   "cell_type": "code",
   "execution_count": 84,
   "outputs": [],
   "source": [],
   "metadata": {
    "collapsed": false,
    "ExecuteTime": {
     "start_time": "2023-11-20T17:04:27.836402Z",
     "end_time": "2023-11-20T17:04:27.848463Z"
    }
   }
  },
  {
   "cell_type": "code",
   "execution_count": 85,
   "outputs": [],
   "source": [
    "torch.save(sentences_embeddings, \"all_beliefs_embeddings.pt\")"
   ],
   "metadata": {
    "collapsed": false,
    "ExecuteTime": {
     "start_time": "2023-11-20T17:04:29.249218Z",
     "end_time": "2023-11-20T17:04:31.810000Z"
    }
   }
  },
  {
   "cell_type": "code",
   "execution_count": null,
   "outputs": [],
   "source": [],
   "metadata": {
    "collapsed": false
   }
  }
 ],
 "metadata": {
  "kernelspec": {
   "display_name": "Python 3",
   "language": "python",
   "name": "python3"
  },
  "language_info": {
   "codemirror_mode": {
    "name": "ipython",
    "version": 2
   },
   "file_extension": ".py",
   "mimetype": "text/x-python",
   "name": "python",
   "nbconvert_exporter": "python",
   "pygments_lexer": "ipython2",
   "version": "2.7.6"
  }
 },
 "nbformat": 4,
 "nbformat_minor": 0
}
